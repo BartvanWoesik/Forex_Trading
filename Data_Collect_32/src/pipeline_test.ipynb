{
 "cells": [
  {
   "cell_type": "code",
   "execution_count": 1,
   "metadata": {},
   "outputs": [
    {
     "name": "stderr",
     "output_type": "stream",
     "text": [
      "IProgress not found. Please update jupyter and ipywidgets. See https://ipywidgets.readthedocs.io/en/stable/user_install.html\n"
     ]
    }
   ],
   "source": [
    "\n",
    "%load_ext autoreload\n",
    "%autoreload 2\n",
    "import pandas as  pd\n",
    "import numpy as np\n",
    "from sklearn.metrics import precision_score\n",
    "from hydra import compose, initialize\n",
    "from hydra.utils import instantiate\n",
    "import shap\n",
    "import plotly.express as px\n",
    "\n",
    "\n",
    "from sklearn.ensemble import HistGradientBoostingClassifier\n",
    "from sklearn.metrics import roc_auc_score\n",
    "from sklearn.metrics import confusion_matrix\n",
    "from sklearn.metrics import ConfusionMatrixDisplay\n",
    "from sklearn.calibration import CalibrationDisplay\n"
   ]
  },
  {
   "cell_type": "code",
   "execution_count": 2,
   "metadata": {},
   "outputs": [],
   "source": [
    "from ProcessData.dataset import Dataset\n",
    "from ProcessData.data_splitter import data_splitter\n",
    "from ProcessData.data_window import add_normalized_cols"
   ]
  },
  {
   "cell_type": "code",
   "execution_count": 3,
   "metadata": {},
   "outputs": [
    {
     "name": "stderr",
     "output_type": "stream",
     "text": [
      "\n",
      "The version_base parameter is not specified.\n",
      "Please specify a compatability version level, or None.\n",
      "Will assume defaults for version 1.1\n"
     ]
    }
   ],
   "source": [
    "initialize(config_path=\"../conf/\")\n",
    "cfg = compose(config_name='config.yaml')"
   ]
  },
  {
   "cell_type": "code",
   "execution_count": 4,
   "metadata": {},
   "outputs": [],
   "source": [
    "pipeline = instantiate(cfg.data_pipeline)"
   ]
  },
  {
   "cell_type": "code",
   "execution_count": 5,
   "metadata": {},
   "outputs": [],
   "source": [
    "df = pd.read_csv('../data/Unprocessed_Data.csv')\n",
    "df = pipeline.apply(df.copy())"
   ]
  },
  {
   "cell_type": "code",
   "execution_count": 6,
   "metadata": {},
   "outputs": [
    {
     "data": {
      "text/plain": [
       "12"
      ]
     },
     "execution_count": 6,
     "metadata": {},
     "output_type": "execute_result"
    }
   ],
   "source": [
    "window = 3\n",
    "model_features = []\n",
    "#model_features = [ 'rsi', 'mfi', 'regrs', 'cci']\n",
    "model_features += ['rsi_norm_' + str(i) for i in range(1,window)]\n",
    "model_features += ['mfi_norm_' + str(i) for i in range(1,window)]\n",
    "#model_features += ['williams_' + str(i) for i in range(1,window)]\n",
    "model_features += ['tv_norm_' + str(i) for i in range(1,window)]\n",
    "model_features += ['regrs_norm_' + str(i) for i in range(1,window)]\n",
    "model_features += ['sma_norm_' + str(i) for i in range(1,window)]\n",
    "model_features += ['cci_norm_' + str(i) for i in range(1,window)]\n",
    "len(model_features)"
   ]
  },
  {
   "cell_type": "code",
   "execution_count": 7,
   "metadata": {},
   "outputs": [
    {
     "name": "stdout",
     "output_type": "stream",
     "text": [
      "Splitted data\n"
     ]
    }
   ],
   "source": [
    "dataset = Dataset(data = df, data_splitter = data_splitter)\n",
    "clf = HistGradientBoostingClassifier( l2_regularization = 20, learning_rate=0.5, max_iter=20, max_leaf_nodes  = 20, max_depth=5, random_state=5).fit(dataset.X_train[model_features], dataset.y_train, sample_weight = dataset.X_train['sample_weight'])"
   ]
  },
  {
   "cell_type": "code",
   "execution_count": 8,
   "metadata": {},
   "outputs": [
    {
     "data": {
      "text/html": [
       "<style>#sk-container-id-1 {color: black;}#sk-container-id-1 pre{padding: 0;}#sk-container-id-1 div.sk-toggleable {background-color: white;}#sk-container-id-1 label.sk-toggleable__label {cursor: pointer;display: block;width: 100%;margin-bottom: 0;padding: 0.3em;box-sizing: border-box;text-align: center;}#sk-container-id-1 label.sk-toggleable__label-arrow:before {content: \"▸\";float: left;margin-right: 0.25em;color: #696969;}#sk-container-id-1 label.sk-toggleable__label-arrow:hover:before {color: black;}#sk-container-id-1 div.sk-estimator:hover label.sk-toggleable__label-arrow:before {color: black;}#sk-container-id-1 div.sk-toggleable__content {max-height: 0;max-width: 0;overflow: hidden;text-align: left;background-color: #f0f8ff;}#sk-container-id-1 div.sk-toggleable__content pre {margin: 0.2em;color: black;border-radius: 0.25em;background-color: #f0f8ff;}#sk-container-id-1 input.sk-toggleable__control:checked~div.sk-toggleable__content {max-height: 200px;max-width: 100%;overflow: auto;}#sk-container-id-1 input.sk-toggleable__control:checked~label.sk-toggleable__label-arrow:before {content: \"▾\";}#sk-container-id-1 div.sk-estimator input.sk-toggleable__control:checked~label.sk-toggleable__label {background-color: #d4ebff;}#sk-container-id-1 div.sk-label input.sk-toggleable__control:checked~label.sk-toggleable__label {background-color: #d4ebff;}#sk-container-id-1 input.sk-hidden--visually {border: 0;clip: rect(1px 1px 1px 1px);clip: rect(1px, 1px, 1px, 1px);height: 1px;margin: -1px;overflow: hidden;padding: 0;position: absolute;width: 1px;}#sk-container-id-1 div.sk-estimator {font-family: monospace;background-color: #f0f8ff;border: 1px dotted black;border-radius: 0.25em;box-sizing: border-box;margin-bottom: 0.5em;}#sk-container-id-1 div.sk-estimator:hover {background-color: #d4ebff;}#sk-container-id-1 div.sk-parallel-item::after {content: \"\";width: 100%;border-bottom: 1px solid gray;flex-grow: 1;}#sk-container-id-1 div.sk-label:hover label.sk-toggleable__label {background-color: #d4ebff;}#sk-container-id-1 div.sk-serial::before {content: \"\";position: absolute;border-left: 1px solid gray;box-sizing: border-box;top: 0;bottom: 0;left: 50%;z-index: 0;}#sk-container-id-1 div.sk-serial {display: flex;flex-direction: column;align-items: center;background-color: white;padding-right: 0.2em;padding-left: 0.2em;position: relative;}#sk-container-id-1 div.sk-item {position: relative;z-index: 1;}#sk-container-id-1 div.sk-parallel {display: flex;align-items: stretch;justify-content: center;background-color: white;position: relative;}#sk-container-id-1 div.sk-item::before, #sk-container-id-1 div.sk-parallel-item::before {content: \"\";position: absolute;border-left: 1px solid gray;box-sizing: border-box;top: 0;bottom: 0;left: 50%;z-index: -1;}#sk-container-id-1 div.sk-parallel-item {display: flex;flex-direction: column;z-index: 1;position: relative;background-color: white;}#sk-container-id-1 div.sk-parallel-item:first-child::after {align-self: flex-end;width: 50%;}#sk-container-id-1 div.sk-parallel-item:last-child::after {align-self: flex-start;width: 50%;}#sk-container-id-1 div.sk-parallel-item:only-child::after {width: 0;}#sk-container-id-1 div.sk-dashed-wrapped {border: 1px dashed gray;margin: 0 0.4em 0.5em 0.4em;box-sizing: border-box;padding-bottom: 0.4em;background-color: white;}#sk-container-id-1 div.sk-label label {font-family: monospace;font-weight: bold;display: inline-block;line-height: 1.2em;}#sk-container-id-1 div.sk-label-container {text-align: center;}#sk-container-id-1 div.sk-container {/* jupyter's `normalize.less` sets `[hidden] { display: none; }` but bootstrap.min.css set `[hidden] { display: none !important; }` so we also need the `!important` here to be able to override the default hidden behavior on the sphinx rendered scikit-learn.org. See: https://github.com/scikit-learn/scikit-learn/issues/21755 */display: inline-block !important;position: relative;}#sk-container-id-1 div.sk-text-repr-fallback {display: none;}</style><div id=\"sk-container-id-1\" class=\"sk-top-container\"><div class=\"sk-text-repr-fallback\"><pre>HistGradientBoostingClassifier(l2_regularization=20, learning_rate=0.5,\n",
       "                               max_bins=25, max_depth=5, max_iter=5,\n",
       "                               max_leaf_nodes=66, min_samples_leaf=1,\n",
       "                               random_state=1)</pre><b>In a Jupyter environment, please rerun this cell to show the HTML representation or trust the notebook. <br />On GitHub, the HTML representation is unable to render, please try loading this page with nbviewer.org.</b></div><div class=\"sk-container\" hidden><div class=\"sk-item\"><div class=\"sk-estimator sk-toggleable\"><input class=\"sk-toggleable__control sk-hidden--visually\" id=\"sk-estimator-id-1\" type=\"checkbox\" checked><label for=\"sk-estimator-id-1\" class=\"sk-toggleable__label sk-toggleable__label-arrow\">HistGradientBoostingClassifier</label><div class=\"sk-toggleable__content\"><pre>HistGradientBoostingClassifier(l2_regularization=20, learning_rate=0.5,\n",
       "                               max_bins=25, max_depth=5, max_iter=5,\n",
       "                               max_leaf_nodes=66, min_samples_leaf=1,\n",
       "                               random_state=1)</pre></div></div></div></div></div>"
      ],
      "text/plain": [
       "HistGradientBoostingClassifier(l2_regularization=20, learning_rate=0.5,\n",
       "                               max_bins=25, max_depth=5, max_iter=5,\n",
       "                               max_leaf_nodes=66, min_samples_leaf=1,\n",
       "                               random_state=1)"
      ]
     },
     "execution_count": 8,
     "metadata": {},
     "output_type": "execute_result"
    }
   ],
   "source": [
    "HistGradientBoostingClassifier(**cfg.model.model_params)"
   ]
  },
  {
   "cell_type": "code",
   "execution_count": 9,
   "metadata": {},
   "outputs": [
    {
     "name": "stdout",
     "output_type": "stream",
     "text": [
      "roc_test: 0.9257358662695538\n",
      "precision_test: 0.8521303258145363\n"
     ]
    }
   ],
   "source": [
    "roc_test = roc_auc_score(dataset.y_train, clf.predict_proba(dataset.X_train[model_features]).T[1])\n",
    "precision_test = precision_score(dataset.y_train, clf.predict(dataset.X_train[model_features]))\n",
    "\n",
    "print(f'roc_test: {roc_test}')\n",
    "print(f'precision_test: {precision_test}')"
   ]
  },
  {
   "cell_type": "code",
   "execution_count": 10,
   "metadata": {},
   "outputs": [
    {
     "name": "stdout",
     "output_type": "stream",
     "text": [
      "roc_test: 0.6233365272011072\n",
      "precision_test: 0.616822429906542\n"
     ]
    }
   ],
   "source": [
    "roc_test = roc_auc_score(dataset.y_test, clf.predict_proba(dataset.X_test[model_features]).T[1])\n",
    "precision_test = precision_score(dataset.y_test, clf.predict(dataset.X_test[model_features]))\n",
    "\n",
    "print(f'roc_test: {roc_test}')\n",
    "print(f'precision_test: {precision_test}')"
   ]
  },
  {
   "cell_type": "code",
   "execution_count": 11,
   "metadata": {},
   "outputs": [
    {
     "name": "stdout",
     "output_type": "stream",
     "text": [
      "roc_oot: 0.6089335180055402\n",
      "precision_oot: 0.5476190476190477\n"
     ]
    }
   ],
   "source": [
    "roc_test = roc_auc_score(dataset.y_oot, clf.predict_proba(dataset.X_oot[model_features]).T[1])\n",
    "precision_test = precision_score(dataset.y_oot, clf.predict(dataset.X_oot[model_features]))\n",
    "\n",
    "print(f'roc_oot: {roc_test}')\n",
    "print(f'precision_oot: {precision_test}')"
   ]
  },
  {
   "cell_type": "code",
   "execution_count": 12,
   "metadata": {},
   "outputs": [],
   "source": [
    "# explainer = shap.TreeExplainer(clf, dataset.X_test[model_features])\n",
    "# shap_values = explainer(dataset.X_train[model_features], check_additivity =  False)\n",
    "# prediction = clf.predict_proba(dataset.X_train[model_features])\n",
    "# shap.plots.beeswarm(shap_values, max_display=70)"
   ]
  },
  {
   "cell_type": "code",
   "execution_count": 13,
   "metadata": {},
   "outputs": [
    {
     "data": {
      "text/plain": [
       "<Axes: >"
      ]
     },
     "execution_count": 13,
     "metadata": {},
     "output_type": "execute_result"
    },
    {
     "data": {
      "image/png": "[encoded data removed]",
      "text/plain": [
       "<Figure size 640x480 with 1 Axes>"
      ]
     },
     "metadata": {},
     "output_type": "display_data"
    }
   ],
   "source": [
    "pd.Series(clf.predict_proba(dataset.X_test[model_features]).T[1]).hist(bins = 20)"
   ]
  },
  {
   "cell_type": "code",
   "execution_count": 14,
   "metadata": {},
   "outputs": [],
   "source": [
    "\n",
    "pred = [1 if d > 0.8 else 0 for d in clf.predict_proba(dataset.X_oot[model_features]).T[1]]"
   ]
  },
  {
   "cell_type": "code",
   "execution_count": 15,
   "metadata": {},
   "outputs": [],
   "source": [
    "\n",
    "from datetime import datetime\n",
    "def calculate_time_difference(date_str1, date_str2):\n",
    "    date_format = '%d.%m.%Y %H:%M:%S'\n",
    "    dates = dataset.X_oot['Datum'].apply(lambda x: datetime.strptime(x, date_format))\n",
    "    date1 = min(dates)\n",
    "    date2 = max(dates)\n",
    "    \n",
    "    time_difference = date2 - date1\n",
    "    \n",
    "    days = time_difference.days\n",
    "    \n",
    "    print(date1)\n",
    "    print(date2)\n",
    "    return {'days': days,}\n"
   ]
  },
  {
   "cell_type": "code",
   "execution_count": 16,
   "metadata": {},
   "outputs": [
    {
     "name": "stdout",
     "output_type": "stream",
     "text": [
      "-0.02350000000000002\n"
     ]
    },
    {
     "data": {
      "application/vnd.plotly.v1+json": {
       "config": {
        "plotlyServerURL": "https://plot.ly"
       },
       "data": [
        {
         "hovertemplate": "variable=diff<br>index=%{x}<br>value=%{y}<extra></extra>",
         "legendgroup": "diff",
         "line": {
          "color": "#636efa",
          "dash": "solid"
         },
         "marker": {
          "symbol": "circle"
         },
         "mode": "lines",
         "name": "diff",
         "orientation": "v",
         "showlegend": true,
         "type": "scatter",
         "x": [
          974,
          978,
          988,
          990,
          1002,
          1009,
          1025,
          1026,
          1046,
          1081,
          1083,
          1086,
          1093,
          1094,
          1099,
          1100,
          1101,
          1104,
          1106,
          1107,
          1113,
          1116,
          1122,
          1124,
          1128
         ],
         "xaxis": "x",
         "y": [
          -0.004060000000000004,
          -0.008120000000000007,
          -0.01218000000000001,
          -0.016240000000000015,
          -0.014300000000000012,
          -0.018360000000000015,
          -0.016420000000000014,
          -0.014480000000000012,
          -0.01254000000000001,
          -0.010600000000000007,
          -0.01466000000000001,
          -0.018720000000000014,
          -0.016780000000000014,
          -0.020840000000000018,
          -0.018900000000000017,
          -0.016960000000000017,
          -0.02102000000000002,
          -0.025080000000000026,
          -0.023140000000000025,
          -0.021200000000000024,
          -0.02526000000000003,
          -0.029320000000000034,
          -0.027380000000000033,
          -0.025440000000000032,
          -0.02350000000000003
         ],
         "yaxis": "y"
        }
       ],
       "layout": {
        "legend": {
         "title": {
          "text": "variable"
         },
         "tracegroupgap": 0
        },
        "margin": {
         "t": 60
        },
        "template": {
         "data": {
          "bar": [
           {
            "error_x": {
             "color": "#2a3f5f"
            },
            "error_y": {
             "color": "#2a3f5f"
            },
            "marker": {
             "line": {
              "color": "#E5ECF6",
              "width": 0.5
             },
             "pattern": {
              "fillmode": "overlay",
              "size": 10,
              "solidity": 0.2
             }
            },
            "type": "bar"
           }
          ],
          "barpolar": [
           {
            "marker": {
             "line": {
              "color": "#E5ECF6",
              "width": 0.5
             },
             "pattern": {
              "fillmode": "overlay",
              "size": 10,
              "solidity": 0.2
             }
            },
            "type": "barpolar"
           }
          ],
          "carpet": [
           {
            "aaxis": {
             "endlinecolor": "#2a3f5f",
             "gridcolor": "white",
             "linecolor": "white",
             "minorgridcolor": "white",
             "startlinecolor": "#2a3f5f"
            },
            "baxis": {
             "endlinecolor": "#2a3f5f",
             "gridcolor": "white",
             "linecolor": "white",
             "minorgridcolor": "white",
             "startlinecolor": "#2a3f5f"
            },
            "type": "carpet"
           }
          ],
          "choropleth": [
           {
            "colorbar": {
             "outlinewidth": 0,
             "ticks": ""
            },
            "type": "choropleth"
           }
          ],
          "contour": [
           {
            "colorbar": {
             "outlinewidth": 0,
             "ticks": ""
            },
            "colorscale": [
             [
              0,
              "#0d0887"
             ],
             [
              0.1111111111111111,
              "#46039f"
             ],
             [
              0.2222222222222222,
              "#7201a8"
             ],
             [
              0.3333333333333333,
              "#9c179e"
             ],
             [
              0.4444444444444444,
              "#bd3786"
             ],
             [
              0.5555555555555556,
              "#d8576b"
             ],
             [
              0.6666666666666666,
              "#ed7953"
             ],
             [
              0.7777777777777778,
              "#fb9f3a"
             ],
             [
              0.8888888888888888,
              "#fdca26"
             ],
             [
              1,
              "#f0f921"
             ]
            ],
            "type": "contour"
           }
          ],
          "contourcarpet": [
           {
            "colorbar": {
             "outlinewidth": 0,
             "ticks": ""
            },
            "type": "contourcarpet"
           }
          ],
          "heatmap": [
           {
            "colorbar": {
             "outlinewidth": 0,
             "ticks": ""
            },
            "colorscale": [
             [
              0,
              "#0d0887"
             ],
             [
              0.1111111111111111,
              "#46039f"
             ],
             [
              0.2222222222222222,
              "#7201a8"
             ],
             [
              0.3333333333333333,
              "#9c179e"
             ],
             [
              0.4444444444444444,
              "#bd3786"
             ],
             [
              0.5555555555555556,
              "#d8576b"
             ],
             [
              0.6666666666666666,
              "#ed7953"
             ],
             [
              0.7777777777777778,
              "#fb9f3a"
             ],
             [
              0.8888888888888888,
              "#fdca26"
             ],
             [
              1,
              "#f0f921"
             ]
            ],
            "type": "heatmap"
           }
          ],
          "heatmapgl": [
           {
            "colorbar": {
             "outlinewidth": 0,
             "ticks": ""
            },
            "colorscale": [
             [
              0,
              "#0d0887"
             ],
             [
              0.1111111111111111,
              "#46039f"
             ],
             [
              0.2222222222222222,
              "#7201a8"
             ],
             [
              0.3333333333333333,
              "#9c179e"
             ],
             [
              0.4444444444444444,
              "#bd3786"
             ],
             [
              0.5555555555555556,
              "#d8576b"
             ],
             [
              0.6666666666666666,
              "#ed7953"
             ],
             [
              0.7777777777777778,
              "#fb9f3a"
             ],
             [
              0.8888888888888888,
              "#fdca26"
             ],
             [
              1,
              "#f0f921"
             ]
            ],
            "type": "heatmapgl"
           }
          ],
          "histogram": [
           {
            "marker": {
             "pattern": {
              "fillmode": "overlay",
              "size": 10,
              "solidity": 0.2
             }
            },
            "type": "histogram"
           }
          ],
          "histogram2d": [
           {
            "colorbar": {
             "outlinewidth": 0,
             "ticks": ""
            },
            "colorscale": [
             [
              0,
              "#0d0887"
             ],
             [
              0.1111111111111111,
              "#46039f"
             ],
             [
              0.2222222222222222,
              "#7201a8"
             ],
             [
              0.3333333333333333,
              "#9c179e"
             ],
             [
              0.4444444444444444,
              "#bd3786"
             ],
             [
              0.5555555555555556,
              "#d8576b"
             ],
             [
              0.6666666666666666,
              "#ed7953"
             ],
             [
              0.7777777777777778,
              "#fb9f3a"
             ],
             [
              0.8888888888888888,
              "#fdca26"
             ],
             [
              1,
              "#f0f921"
             ]
            ],
            "type": "histogram2d"
           }
          ],
          "histogram2dcontour": [
           {
            "colorbar": {
             "outlinewidth": 0,
             "ticks": ""
            },
            "colorscale": [
             [
              0,
              "#0d0887"
             ],
             [
              0.1111111111111111,
              "#46039f"
             ],
             [
              0.2222222222222222,
              "#7201a8"
             ],
             [
              0.3333333333333333,
              "#9c179e"
             ],
             [
              0.4444444444444444,
              "#bd3786"
             ],
             [
              0.5555555555555556,
              "#d8576b"
             ],
             [
              0.6666666666666666,
              "#ed7953"
             ],
             [
              0.7777777777777778,
              "#fb9f3a"
             ],
             [
              0.8888888888888888,
              "#fdca26"
             ],
             [
              1,
              "#f0f921"
             ]
            ],
            "type": "histogram2dcontour"
           }
          ],
          "mesh3d": [
           {
            "colorbar": {
             "outlinewidth": 0,
             "ticks": ""
            },
            "type": "mesh3d"
           }
          ],
          "parcoords": [
           {
            "line": {
             "colorbar": {
              "outlinewidth": 0,
              "ticks": ""
             }
            },
            "type": "parcoords"
           }
          ],
          "pie": [
           {
            "automargin": true,
            "type": "pie"
           }
          ],
          "scatter": [
           {
            "fillpattern": {
             "fillmode": "overlay",
             "size": 10,
             "solidity": 0.2
            },
            "type": "scatter"
           }
          ],
          "scatter3d": [
           {
            "line": {
             "colorbar": {
              "outlinewidth": 0,
              "ticks": ""
             }
            },
            "marker": {
             "colorbar": {
              "outlinewidth": 0,
              "ticks": ""
             }
            },
            "type": "scatter3d"
           }
          ],
          "scattercarpet": [
           {
            "marker": {
             "colorbar": {
              "outlinewidth": 0,
              "ticks": ""
             }
            },
            "type": "scattercarpet"
           }
          ],
          "scattergeo": [
           {
            "marker": {
             "colorbar": {
              "outlinewidth": 0,
              "ticks": ""
             }
            },
            "type": "scattergeo"
           }
          ],
          "scattergl": [
           {
            "marker": {
             "colorbar": {
              "outlinewidth": 0,
              "ticks": ""
             }
            },
            "type": "scattergl"
           }
          ],
          "scattermapbox": [
           {
            "marker": {
             "colorbar": {
              "outlinewidth": 0,
              "ticks": ""
             }
            },
            "type": "scattermapbox"
           }
          ],
          "scatterpolar": [
           {
            "marker": {
             "colorbar": {
              "outlinewidth": 0,
              "ticks": ""
             }
            },
            "type": "scatterpolar"
           }
          ],
          "scatterpolargl": [
           {
            "marker": {
             "colorbar": {
              "outlinewidth": 0,
              "ticks": ""
             }
            },
            "type": "scatterpolargl"
           }
          ],
          "scatterternary": [
           {
            "marker": {
             "colorbar": {
              "outlinewidth": 0,
              "ticks": ""
             }
            },
            "type": "scatterternary"
           }
          ],
          "surface": [
           {
            "colorbar": {
             "outlinewidth": 0,
             "ticks": ""
            },
            "colorscale": [
             [
              0,
              "#0d0887"
             ],
             [
              0.1111111111111111,
              "#46039f"
             ],
             [
              0.2222222222222222,
              "#7201a8"
             ],
             [
              0.3333333333333333,
              "#9c179e"
             ],
             [
              0.4444444444444444,
              "#bd3786"
             ],
             [
              0.5555555555555556,
              "#d8576b"
             ],
             [
              0.6666666666666666,
              "#ed7953"
             ],
             [
              0.7777777777777778,
              "#fb9f3a"
             ],
             [
              0.8888888888888888,
              "#fdca26"
             ],
             [
              1,
              "#f0f921"
             ]
            ],
            "type": "surface"
           }
          ],
          "table": [
           {
            "cells": {
             "fill": {
              "color": "#EBF0F8"
             },
             "line": {
              "color": "white"
             }
            },
            "header": {
             "fill": {
              "color": "#C8D4E3"
             },
             "line": {
              "color": "white"
             }
            },
            "type": "table"
           }
          ]
         },
         "layout": {
          "annotationdefaults": {
           "arrowcolor": "#2a3f5f",
           "arrowhead": 0,
           "arrowwidth": 1
          },
          "autotypenumbers": "strict",
          "coloraxis": {
           "colorbar": {
            "outlinewidth": 0,
            "ticks": ""
           }
          },
          "colorscale": {
           "diverging": [
            [
             0,
             "#8e0152"
            ],
            [
             0.1,
             "#c51b7d"
            ],
            [
             0.2,
             "#de77ae"
            ],
            [
             0.3,
             "#f1b6da"
            ],
            [
             0.4,
             "#fde0ef"
            ],
            [
             0.5,
             "#f7f7f7"
            ],
            [
             0.6,
             "#e6f5d0"
            ],
            [
             0.7,
             "#b8e186"
            ],
            [
             0.8,
             "#7fbc41"
            ],
            [
             0.9,
             "#4d9221"
            ],
            [
             1,
             "#276419"
            ]
           ],
           "sequential": [
            [
             0,
             "#0d0887"
            ],
            [
             0.1111111111111111,
             "#46039f"
            ],
            [
             0.2222222222222222,
             "#7201a8"
            ],
            [
             0.3333333333333333,
             "#9c179e"
            ],
            [
             0.4444444444444444,
             "#bd3786"
            ],
            [
             0.5555555555555556,
             "#d8576b"
            ],
            [
             0.6666666666666666,
             "#ed7953"
            ],
            [
             0.7777777777777778,
             "#fb9f3a"
            ],
            [
             0.8888888888888888,
             "#fdca26"
            ],
            [
             1,
             "#f0f921"
            ]
           ],
           "sequentialminus": [
            [
             0,
             "#0d0887"
            ],
            [
             0.1111111111111111,
             "#46039f"
            ],
            [
             0.2222222222222222,
             "#7201a8"
            ],
            [
             0.3333333333333333,
             "#9c179e"
            ],
            [
             0.4444444444444444,
             "#bd3786"
            ],
            [
             0.5555555555555556,
             "#d8576b"
            ],
            [
             0.6666666666666666,
             "#ed7953"
            ],
            [
             0.7777777777777778,
             "#fb9f3a"
            ],
            [
             0.8888888888888888,
             "#fdca26"
            ],
            [
             1,
             "#f0f921"
            ]
           ]
          },
          "colorway": [
           "#636efa",
           "#EF553B",
           "#00cc96",
           "#ab63fa",
           "#FFA15A",
           "#19d3f3",
           "#FF6692",
           "#B6E880",
           "#FF97FF",
           "#FECB52"
          ],
          "font": {
           "color": "#2a3f5f"
          },
          "geo": {
           "bgcolor": "white",
           "lakecolor": "white",
           "landcolor": "#E5ECF6",
           "showlakes": true,
           "showland": true,
           "subunitcolor": "white"
          },
          "hoverlabel": {
           "align": "left"
          },
          "hovermode": "closest",
          "mapbox": {
           "style": "light"
          },
          "paper_bgcolor": "white",
          "plot_bgcolor": "#E5ECF6",
          "polar": {
           "angularaxis": {
            "gridcolor": "white",
            "linecolor": "white",
            "ticks": ""
           },
           "bgcolor": "#E5ECF6",
           "radialaxis": {
            "gridcolor": "white",
            "linecolor": "white",
            "ticks": ""
           }
          },
          "scene": {
           "xaxis": {
            "backgroundcolor": "#E5ECF6",
            "gridcolor": "white",
            "gridwidth": 2,
            "linecolor": "white",
            "showbackground": true,
            "ticks": "",
            "zerolinecolor": "white"
           },
           "yaxis": {
            "backgroundcolor": "#E5ECF6",
            "gridcolor": "white",
            "gridwidth": 2,
            "linecolor": "white",
            "showbackground": true,
            "ticks": "",
            "zerolinecolor": "white"
           },
           "zaxis": {
            "backgroundcolor": "#E5ECF6",
            "gridcolor": "white",
            "gridwidth": 2,
            "linecolor": "white",
            "showbackground": true,
            "ticks": "",
            "zerolinecolor": "white"
           }
          },
          "shapedefaults": {
           "line": {
            "color": "#2a3f5f"
           }
          },
          "ternary": {
           "aaxis": {
            "gridcolor": "white",
            "linecolor": "white",
            "ticks": ""
           },
           "baxis": {
            "gridcolor": "white",
            "linecolor": "white",
            "ticks": ""
           },
           "bgcolor": "#E5ECF6",
           "caxis": {
            "gridcolor": "white",
            "linecolor": "white",
            "ticks": ""
           }
          },
          "title": {
           "x": 0.05
          },
          "xaxis": {
           "automargin": true,
           "gridcolor": "white",
           "linecolor": "white",
           "ticks": "",
           "title": {
            "standoff": 15
           },
           "zerolinecolor": "white",
           "zerolinewidth": 2
          },
          "yaxis": {
           "automargin": true,
           "gridcolor": "white",
           "linecolor": "white",
           "ticks": "",
           "title": {
            "standoff": 15
           },
           "zerolinecolor": "white",
           "zerolinewidth": 2
          }
         }
        },
        "xaxis": {
         "anchor": "y",
         "domain": [
          0,
          1
         ],
         "title": {
          "text": "index"
         }
        },
        "yaxis": {
         "anchor": "x",
         "domain": [
          0,
          1
         ],
         "title": {
          "text": "value"
         }
        }
       }
      }
     },
     "metadata": {},
     "output_type": "display_data"
    }
   ],
   "source": [
    "dataset.X_oot['diff'] = dataset.X_oot['next_close_price'] - dataset.X_oot['close_price']\n",
    "dataset.X_oot['pred'] = pred\n",
    "print( sum(dataset.X_oot['diff'][dataset.X_oot['pred'] ==1]) - sum(pred)*0.00006)\n",
    "final_pred =dataset.X_oot['diff'][dataset.X_oot['pred'] ==1] -0.00006\n",
    "px.line(final_pred.cumsum(axis = 0))"
   ]
  },
  {
   "cell_type": "code",
   "execution_count": 17,
   "metadata": {},
   "outputs": [
    {
     "data": {
      "text/plain": [
       "index                               968\n",
       "Datum               28.09.2021 08:50:07\n",
       "close_price                       1.168\n",
       "open_price                         1.17\n",
       "high_price                         1.17\n",
       "low_price                         1.168\n",
       "rsi1                               36.7\n",
       "mfi1                          21.477135\n",
       "tv1                                 1.0\n",
       "sma1                           1.176286\n",
       "williams1                        -100.0\n",
       "regrs1                         0.794382\n",
       "cci1                        -133.802817\n",
       "rsi2                               38.8\n",
       "mfi2                          21.456295\n",
       "tv2                                 1.0\n",
       "sma2                           1.177429\n",
       "williams2                        -100.0\n",
       "regrs2                           0.7829\n",
       "cci2                        -108.856089\n",
       "rsi3                               43.5\n",
       "mfi3                          21.435496\n",
       "tv3                                 1.0\n",
       "sma3                           1.178571\n",
       "williams3                    -77.777778\n",
       "regrs3                           0.7829\n",
       "cci3                         -71.625344\n",
       "rsi4                               36.4\n",
       "mfi4                          21.511581\n",
       "tv4                                 1.0\n",
       "sma4                           1.179714\n",
       "williams4                        -100.0\n",
       "regrs4                         0.827375\n",
       "cci4                        -111.041208\n",
       "next_close_price                  1.166\n",
       "next_open_price                   1.168\n",
       "diff                             -0.002\n",
       "sample_weight                       2.1\n",
       "rsi_norm_1                          0.0\n",
       "rsi_norm_2                     1.771724\n",
       "rsi_norm_3                     5.737011\n",
       "mfi_norm_1                     0.041558\n",
       "mfi_norm_2                     0.020759\n",
       "mfi_norm_3                          0.0\n",
       "regrs_norm_1                   0.011316\n",
       "regrs_norm_2                        0.0\n",
       "regrs_norm_3                        0.0\n",
       "cci_norm_1                          0.0\n",
       "cci_norm_2                    46.602813\n",
       "cci_norm_3                   116.153314\n",
       "sma_norm_1                          0.0\n",
       "sma_norm_2                     0.001141\n",
       "sma_norm_3                     0.002281\n",
       "tv_norm_1                           0.0\n",
       "tv_norm_2                           0.0\n",
       "tv_norm_3                           0.0\n",
       "pred                                  0\n",
       "Name: 968, dtype: object"
      ]
     },
     "execution_count": 17,
     "metadata": {},
     "output_type": "execute_result"
    }
   ],
   "source": [
    "dataset.X_oot.iloc[1]"
   ]
  },
  {
   "cell_type": "code",
   "execution_count": 18,
   "metadata": {},
   "outputs": [
    {
     "data": {
      "text/plain": [
       "index                              1137\n",
       "Datum               20.01.2022 02:18:42\n",
       "close_price                       1.136\n",
       "open_price                        1.134\n",
       "high_price                        1.136\n",
       "low_price                         1.134\n",
       "rsi1                               48.9\n",
       "mfi1                           50.05848\n",
       "tv1                                 1.0\n",
       "sma1                               1.14\n",
       "williams1                         -75.0\n",
       "regrs1                         0.372308\n",
       "cci1                         -10.638298\n",
       "rsi2                               42.6\n",
       "mfi2                           50.05848\n",
       "tv2                                 1.0\n",
       "sma2                               1.14\n",
       "williams2                        -100.0\n",
       "regrs2                         0.150769\n",
       "cci2                         -53.475936\n",
       "rsi3                               45.2\n",
       "mfi3                          57.157178\n",
       "tv3                                 1.0\n",
       "sma3                           1.140143\n",
       "williams3                         -87.5\n",
       "regrs3                         0.000017\n",
       "cci3                         -21.048999\n",
       "rsi4                               47.9\n",
       "mfi4                          57.171506\n",
       "tv4                                 1.0\n",
       "sma4                           1.139857\n",
       "williams4                    -66.666667\n",
       "regrs4                         0.177779\n",
       "cci4                          11.986301\n",
       "next_close_price                  1.132\n",
       "next_open_price                   1.134\n",
       "diff                             -0.004\n",
       "sample_weight                       2.1\n",
       "rsi_norm_1                     5.488344\n",
       "rsi_norm_2                          0.0\n",
       "rsi_norm_3                     2.265031\n",
       "mfi_norm_1                          0.0\n",
       "mfi_norm_2                          0.0\n",
       "mfi_norm_3                     6.217067\n",
       "regrs_norm_1                   0.000017\n",
       "regrs_norm_2                   0.000007\n",
       "regrs_norm_3                        0.0\n",
       "cci_norm_1                   215.333579\n",
       "cci_norm_2                          0.0\n",
       "cci_norm_3                   163.001714\n",
       "sma_norm_1                          0.0\n",
       "sma_norm_2                          0.0\n",
       "sma_norm_3                     0.000143\n",
       "tv_norm_1                           0.0\n",
       "tv_norm_2                           0.0\n",
       "tv_norm_3                           0.0\n",
       "pred                                  0\n",
       "Name: 1137, dtype: object"
      ]
     },
     "execution_count": 18,
     "metadata": {},
     "output_type": "execute_result"
    }
   ],
   "source": [
    "dataset.X_oot.iloc[dataset.X_oot.shape[0]-1]"
   ]
  },
  {
   "cell_type": "code",
   "execution_count": 19,
   "metadata": {},
   "outputs": [
    {
     "data": {
      "text/plain": [
       "'31.12.2020 16:42:30'"
      ]
     },
     "execution_count": 19,
     "metadata": {},
     "output_type": "execute_result"
    }
   ],
   "source": [
    "max(dataset.X_train['Datum'])"
   ]
  },
  {
   "cell_type": "code",
   "execution_count": 20,
   "metadata": {},
   "outputs": [
    {
     "data": {
      "image/png": "[encoded data removed]",
      "text/plain": [
       "<Figure size 640x480 with 1 Axes>"
      ]
     },
     "metadata": {},
     "output_type": "display_data"
    }
   ],
   "source": [
    "from sklearn.metrics import PrecisionRecallDisplay\n",
    "\n",
    "display = PrecisionRecallDisplay.from_estimator(\n",
    "    clf, dataset.X_oot[model_features], dataset.y_oot, name=\"LinearSVC\", plot_chance_level=True\n",
    ")\n",
    "_ = display.ax_.set_title(\"2-class Precision-Recall curve\")"
   ]
  },
  {
   "cell_type": "code",
   "execution_count": 21,
   "metadata": {},
   "outputs": [
    {
     "data": {
      "image/png": "[encoded data removed]",
      "text/plain": [
       "<Figure size 640x480 with 1 Axes>"
      ]
     },
     "metadata": {},
     "output_type": "display_data"
    }
   ],
   "source": [
    "disp = CalibrationDisplay.from_estimator(clf, dataset.X_test[model_features], dataset.y_test)"
   ]
  },
  {
   "cell_type": "code",
   "execution_count": 22,
   "metadata": {},
   "outputs": [
    {
     "data": {
      "image/png": "[encoded data removed]",
      "text/plain": [
       "<Figure size 640x480 with 1 Axes>"
      ]
     },
     "metadata": {},
     "output_type": "display_data"
    }
   ],
   "source": [
    "from sklearn.calibration import CalibratedClassifierCV\n",
    "\n",
    "calibrated_clf = CalibratedClassifierCV(clf, cv='prefit')\n",
    "calibrated_clf.fit(dataset.X_train[model_features], dataset.y_train)\n",
    "disp = CalibrationDisplay.from_estimator(calibrated_clf, dataset.X_test[model_features], dataset.y_test)"
   ]
  },
  {
   "cell_type": "code",
   "execution_count": null,
   "metadata": {},
   "outputs": [],
   "source": []
  },
  {
   "cell_type": "code",
   "execution_count": 23,
   "metadata": {},
   "outputs": [
    {
     "data": {
      "text/plain": [
       "<sklearn.metrics._plot.confusion_matrix.ConfusionMatrixDisplay at 0x251fa875d00>"
      ]
     },
     "execution_count": 23,
     "metadata": {},
     "output_type": "execute_result"
    },
    {
     "data": {
      "image/png": "[encoded data removed]",
      "text/plain": [
       "<Figure size 640x480 with 2 Axes>"
      ]
     },
     "metadata": {},
     "output_type": "display_data"
    }
   ],
   "source": [
    "cm = confusion_matrix(dataset.y_test, calibrated_clf.predict(dataset.X_test[model_features]))\n",
    "ConfusionMatrixDisplay(cm).plot()"
   ]
  },
  {
   "cell_type": "code",
   "execution_count": 24,
   "metadata": {},
   "outputs": [],
   "source": [
    "pred = [1 if d > 0.95 else 0 for d in calibrated_clf.predict_proba(dataset.X_oot[model_features]).T[1]]"
   ]
  },
  {
   "cell_type": "code",
   "execution_count": 25,
   "metadata": {},
   "outputs": [
    {
     "data": {
      "text/plain": [
       "<Axes: >"
      ]
     },
     "execution_count": 25,
     "metadata": {},
     "output_type": "execute_result"
    },
    {
     "data": {
      "image/png": "[encoded data removed]",
      "text/plain": [
       "<Figure size 640x480 with 1 Axes>"
      ]
     },
     "metadata": {},
     "output_type": "display_data"
    }
   ],
   "source": [
    "pd.Series(calibrated_clf.predict_proba(dataset.X_test[model_features]).T[1]).hist(bins = 20)"
   ]
  },
  {
   "cell_type": "code",
   "execution_count": 26,
   "metadata": {},
   "outputs": [],
   "source": [
    "from sklearn.calibration import calibration_curve"
   ]
  },
  {
   "cell_type": "code",
   "execution_count": 27,
   "metadata": {},
   "outputs": [],
   "source": [
    "from sklearn.metrics import log_loss"
   ]
  },
  {
   "cell_type": "code",
   "execution_count": 28,
   "metadata": {},
   "outputs": [
    {
     "data": {
      "text/plain": [
       "(array([0.41071429, 0.30434783, 0.5       , 0.66666667, 0.63513514]),\n",
       " array([0.07836502, 0.28712943, 0.51054259, 0.71088097, 0.93269084]))"
      ]
     },
     "execution_count": 28,
     "metadata": {},
     "output_type": "execute_result"
    }
   ],
   "source": [
    "calibration_curve(dataset.y_test, calibrated_clf.predict_proba(dataset.X_test[model_features]).T[1])"
   ]
  },
  {
   "cell_type": "code",
   "execution_count": 29,
   "metadata": {},
   "outputs": [
    {
     "data": {
      "text/plain": [
       "0.7435949950389227"
      ]
     },
     "execution_count": 29,
     "metadata": {},
     "output_type": "execute_result"
    }
   ],
   "source": [
    "log_loss(dataset.y_test, clf.predict_proba(dataset.X_test[model_features]).T[1])"
   ]
  },
  {
   "cell_type": "code",
   "execution_count": 30,
   "metadata": {},
   "outputs": [],
   "source": [
    "test_DF = dataset.X_train[model_features].iloc[0]"
   ]
  },
  {
   "cell_type": "code",
   "execution_count": 31,
   "metadata": {},
   "outputs": [
    {
     "data": {
      "text/plain": [
       "rsi_norm_1       0.000000\n",
       "rsi_norm_2       3.165800\n",
       "mfi_norm_1       0.000000\n",
       "mfi_norm_2       6.051954\n",
       "tv_norm_1        0.000000\n",
       "tv_norm_2        0.000000\n",
       "regrs_norm_1     0.000000\n",
       "regrs_norm_2     0.077301\n",
       "sma_norm_1       0.002281\n",
       "sma_norm_2       0.001283\n",
       "cci_norm_1       0.000000\n",
       "cci_norm_2      17.611594\n",
       "Name: 786, dtype: float64"
      ]
     },
     "execution_count": 31,
     "metadata": {},
     "output_type": "execute_result"
    }
   ],
   "source": [
    "test_DF"
   ]
  },
  {
   "cell_type": "code",
   "execution_count": 32,
   "metadata": {},
   "outputs": [],
   "source": [
    "test_DF.to_json(\"testdf.json\")"
   ]
  },
  {
   "cell_type": "code",
   "execution_count": 33,
   "metadata": {},
   "outputs": [
    {
     "data": {
      "text/html": [
       "<div>\n",
       "<style scoped>\n",
       "    .dataframe tbody tr th:only-of-type {\n",
       "        vertical-align: middle;\n",
       "    }\n",
       "\n",
       "    .dataframe tbody tr th {\n",
       "        vertical-align: top;\n",
       "    }\n",
       "\n",
       "    .dataframe thead th {\n",
       "        text-align: right;\n",
       "    }\n",
       "</style>\n",
       "<table border=\"1\" class=\"dataframe\">\n",
       "  <thead>\n",
       "    <tr style=\"text-align: right;\">\n",
       "      <th></th>\n",
       "      <th>rsi_norm_1</th>\n",
       "      <th>rsi_norm_2</th>\n",
       "      <th>mfi_norm_1</th>\n",
       "      <th>mfi_norm_2</th>\n",
       "      <th>tv_norm_1</th>\n",
       "      <th>tv_norm_2</th>\n",
       "      <th>regrs_norm_1</th>\n",
       "      <th>regrs_norm_2</th>\n",
       "      <th>sma_norm_1</th>\n",
       "      <th>sma_norm_2</th>\n",
       "      <th>cci_norm_1</th>\n",
       "      <th>cci_norm_2</th>\n",
       "    </tr>\n",
       "  </thead>\n",
       "  <tbody>\n",
       "    <tr>\n",
       "      <th>0</th>\n",
       "      <td>0.0</td>\n",
       "      <td>3.1658</td>\n",
       "      <td>0.0</td>\n",
       "      <td>6.051954</td>\n",
       "      <td>0.0</td>\n",
       "      <td>0.0</td>\n",
       "      <td>0.0</td>\n",
       "      <td>0.077301</td>\n",
       "      <td>0.002281</td>\n",
       "      <td>0.001283</td>\n",
       "      <td>0.0</td>\n",
       "      <td>17.611594</td>\n",
       "    </tr>\n",
       "  </tbody>\n",
       "</table>\n",
       "</div>"
      ],
      "text/plain": [
       "   rsi_norm_1  rsi_norm_2  mfi_norm_1  mfi_norm_2  tv_norm_1  tv_norm_2  \\\n",
       "0         0.0      3.1658         0.0    6.051954        0.0        0.0   \n",
       "\n",
       "   regrs_norm_1  regrs_norm_2  sma_norm_1  sma_norm_2  cci_norm_1  cci_norm_2  \n",
       "0           0.0      0.077301    0.002281    0.001283         0.0   17.611594  "
      ]
     },
     "execution_count": 33,
     "metadata": {},
     "output_type": "execute_result"
    }
   ],
   "source": [
    " pd.read_json(\"testdf.json\", orient = 'index').T"
   ]
  },
  {
   "cell_type": "code",
   "execution_count": 34,
   "metadata": {},
   "outputs": [],
   "source": [
    "import json\n",
    "with open('testdf.json', 'r') as file:\n",
    "            input_data = json.load(file)"
   ]
  },
  {
   "cell_type": "code",
   "execution_count": 35,
   "metadata": {},
   "outputs": [
    {
     "data": {
      "text/plain": [
       "{'rsi_norm_1': 0.0,\n",
       " 'rsi_norm_2': 3.1658002736,\n",
       " 'mfi_norm_1': 0.0,\n",
       " 'mfi_norm_2': 6.0519536155,\n",
       " 'tv_norm_1': 0.0,\n",
       " 'tv_norm_2': 0.0,\n",
       " 'regrs_norm_1': 0.0,\n",
       " 'regrs_norm_2': 0.0773012646,\n",
       " 'sma_norm_1': 0.0022806365,\n",
       " 'sma_norm_2': 0.0012825461,\n",
       " 'cci_norm_1': 0.0,\n",
       " 'cci_norm_2': 17.611593961}"
      ]
     },
     "execution_count": 35,
     "metadata": {},
     "output_type": "execute_result"
    }
   ],
   "source": [
    "input_data"
   ]
  },
  {
   "cell_type": "code",
   "execution_count": 36,
   "metadata": {},
   "outputs": [
    {
     "data": {
      "text/html": [
       "<div>\n",
       "<style scoped>\n",
       "    .dataframe tbody tr th:only-of-type {\n",
       "        vertical-align: middle;\n",
       "    }\n",
       "\n",
       "    .dataframe tbody tr th {\n",
       "        vertical-align: top;\n",
       "    }\n",
       "\n",
       "    .dataframe thead th {\n",
       "        text-align: right;\n",
       "    }\n",
       "</style>\n",
       "<table border=\"1\" class=\"dataframe\">\n",
       "  <thead>\n",
       "    <tr style=\"text-align: right;\">\n",
       "      <th></th>\n",
       "      <th>rsi_norm_1</th>\n",
       "      <th>rsi_norm_2</th>\n",
       "      <th>mfi_norm_1</th>\n",
       "      <th>mfi_norm_2</th>\n",
       "      <th>tv_norm_1</th>\n",
       "      <th>tv_norm_2</th>\n",
       "      <th>regrs_norm_1</th>\n",
       "      <th>regrs_norm_2</th>\n",
       "      <th>sma_norm_1</th>\n",
       "      <th>sma_norm_2</th>\n",
       "      <th>cci_norm_1</th>\n",
       "      <th>cci_norm_2</th>\n",
       "    </tr>\n",
       "  </thead>\n",
       "  <tbody>\n",
       "    <tr>\n",
       "      <th>0</th>\n",
       "      <td>0.0</td>\n",
       "      <td>3.1658</td>\n",
       "      <td>0.0</td>\n",
       "      <td>6.051954</td>\n",
       "      <td>0.0</td>\n",
       "      <td>0.0</td>\n",
       "      <td>0.0</td>\n",
       "      <td>0.077301</td>\n",
       "      <td>0.002281</td>\n",
       "      <td>0.001283</td>\n",
       "      <td>0.0</td>\n",
       "      <td>17.611594</td>\n",
       "    </tr>\n",
       "  </tbody>\n",
       "</table>\n",
       "</div>"
      ],
      "text/plain": [
       "   rsi_norm_1  rsi_norm_2  mfi_norm_1  mfi_norm_2  tv_norm_1  tv_norm_2  \\\n",
       "0         0.0      3.1658         0.0    6.051954        0.0        0.0   \n",
       "\n",
       "   regrs_norm_1  regrs_norm_2  sma_norm_1  sma_norm_2  cci_norm_1  cci_norm_2  \n",
       "0           0.0      0.077301    0.002281    0.001283         0.0   17.611594  "
      ]
     },
     "execution_count": 36,
     "metadata": {},
     "output_type": "execute_result"
    }
   ],
   "source": [
    "pd.DataFrame.from_dict(input_data, orient=\"index\").T"
   ]
  },
  {
   "cell_type": "code",
   "execution_count": 37,
   "metadata": {},
   "outputs": [
    {
     "data": {
      "text/plain": [
       "['model.pkl']"
      ]
     },
     "execution_count": 37,
     "metadata": {},
     "output_type": "execute_result"
    }
   ],
   "source": [
    "import joblib\n",
    "\n",
    "\n",
    "joblib.dump(clf, 'model.pkl')"
   ]
  },
  {
   "cell_type": "code",
   "execution_count": 38,
   "metadata": {},
   "outputs": [
    {
     "data": {
      "text/plain": [
       "12"
      ]
     },
     "execution_count": 38,
     "metadata": {},
     "output_type": "execute_result"
    }
   ],
   "source": [
    "len(clf.feature_names_in_)"
   ]
  },
  {
   "cell_type": "code",
   "execution_count": 39,
   "metadata": {},
   "outputs": [],
   "source": [
    "from Model.SklearnPipeline import CustomPipeline\n",
    "import pandas as pd"
   ]
  },
  {
   "cell_type": "code",
   "execution_count": 40,
   "metadata": {},
   "outputs": [],
   "source": [
    "t = CustomPipeline([\"rsi\", \"mfi\", \"regrs\", \"cci\", \"sma\", \"tv\"], window = 4)"
   ]
  },
  {
   "cell_type": "code",
   "execution_count": 41,
   "metadata": {},
   "outputs": [],
   "source": [
    "testdf = pd.read_csv(\"../../Data_Collect_32/data/Unprocessed_Data.csv\")\n",
    "testdf = testdf.dropna()\n",
    "testdf['Datum'] = pd.to_datetime(testdf['Datum'], dayfirst=True)"
   ]
  },
  {
   "cell_type": "code",
   "execution_count": 42,
   "metadata": {},
   "outputs": [
    {
     "data": {
      "text/plain": [
       "Timestamp('2022-01-20 19:35:04')"
      ]
     },
     "execution_count": 42,
     "metadata": {},
     "output_type": "execute_result"
    }
   ],
   "source": [
    "max(testdf['Datum'])"
   ]
  },
  {
   "cell_type": "code",
   "execution_count": 43,
   "metadata": {},
   "outputs": [
    {
     "data": {
      "text/plain": [
       "(1139, 33)"
      ]
     },
     "execution_count": 43,
     "metadata": {},
     "output_type": "execute_result"
    }
   ],
   "source": [
    "testdf.shape"
   ]
  },
  {
   "cell_type": "code",
   "execution_count": 44,
   "metadata": {},
   "outputs": [],
   "source": [
    "def create_label(df: pd.DataFrame) -> pd.DataFrame:\n",
    "    _df = df.copy()\n",
    "    diff = _df['next_close_price'] -  _df['close_price']\n",
    "    _df['diff'] = diff * 1000\n",
    "    _df['sample_weight'] = [2.1 if ((x >= -4.0 )| (x < 3.0)) else 1 for x in _df['diff']]\n",
    "    _df['y'] = (diff >= 0.001).astype(int)\n",
    "    return _df\n",
    "\n",
    "\n",
    "def shift_close(df: pd.DataFrame) -> pd.DataFrame:\n",
    "    _df = df.copy()\n",
    "    _df['next_close_price'] = df['close_price'].shift(-1)\n",
    "    _df['next_open_price'] = df['open_price'].shift(-1)\n",
    "    return _df\n",
    "\n",
    "ydf = create_label(shift_close(testdf))"
   ]
  },
  {
   "cell_type": "code",
   "execution_count": 45,
   "metadata": {},
   "outputs": [
    {
     "data": {
      "text/html": [
       "<div>\n",
       "<style scoped>\n",
       "    .dataframe tbody tr th:only-of-type {\n",
       "        vertical-align: middle;\n",
       "    }\n",
       "\n",
       "    .dataframe tbody tr th {\n",
       "        vertical-align: top;\n",
       "    }\n",
       "\n",
       "    .dataframe thead th {\n",
       "        text-align: right;\n",
       "    }\n",
       "</style>\n",
       "<table border=\"1\" class=\"dataframe\">\n",
       "  <thead>\n",
       "    <tr style=\"text-align: right;\">\n",
       "      <th></th>\n",
       "      <th>close_price</th>\n",
       "      <th>open_price</th>\n",
       "      <th>high_price</th>\n",
       "      <th>low_price</th>\n",
       "      <th>rsi1</th>\n",
       "      <th>mfi1</th>\n",
       "      <th>tv1</th>\n",
       "      <th>sma1</th>\n",
       "      <th>williams1</th>\n",
       "      <th>regrs1</th>\n",
       "      <th>...</th>\n",
       "      <th>williams3</th>\n",
       "      <th>regrs3</th>\n",
       "      <th>cci3</th>\n",
       "      <th>rsi4</th>\n",
       "      <th>mfi4</th>\n",
       "      <th>tv4</th>\n",
       "      <th>sma4</th>\n",
       "      <th>williams4</th>\n",
       "      <th>regrs4</th>\n",
       "      <th>cci4</th>\n",
       "    </tr>\n",
       "  </thead>\n",
       "  <tbody>\n",
       "    <tr>\n",
       "      <th>0</th>\n",
       "      <td>1.086</td>\n",
       "      <td>1.084</td>\n",
       "      <td>1.086</td>\n",
       "      <td>1.084</td>\n",
       "      <td>54.7</td>\n",
       "      <td>64.351811</td>\n",
       "      <td>1.0</td>\n",
       "      <td>1.080857</td>\n",
       "      <td>-0.000000</td>\n",
       "      <td>0.169761</td>\n",
       "      <td>...</td>\n",
       "      <td>-0.000000</td>\n",
       "      <td>0.150430</td>\n",
       "      <td>60.736490</td>\n",
       "      <td>52.8</td>\n",
       "      <td>50.061761</td>\n",
       "      <td>1.0</td>\n",
       "      <td>1.079429</td>\n",
       "      <td>-0.000000</td>\n",
       "      <td>0.025743</td>\n",
       "      <td>14.184397</td>\n",
       "    </tr>\n",
       "    <tr>\n",
       "      <th>1</th>\n",
       "      <td>1.088</td>\n",
       "      <td>1.086</td>\n",
       "      <td>1.088</td>\n",
       "      <td>1.086</td>\n",
       "      <td>57.1</td>\n",
       "      <td>64.370651</td>\n",
       "      <td>1.0</td>\n",
       "      <td>1.081429</td>\n",
       "      <td>-0.000000</td>\n",
       "      <td>0.299376</td>\n",
       "      <td>...</td>\n",
       "      <td>-33.333333</td>\n",
       "      <td>0.150430</td>\n",
       "      <td>6.391347</td>\n",
       "      <td>55.4</td>\n",
       "      <td>57.226020</td>\n",
       "      <td>1.0</td>\n",
       "      <td>1.079857</td>\n",
       "      <td>-0.000000</td>\n",
       "      <td>0.150430</td>\n",
       "      <td>60.736490</td>\n",
       "    </tr>\n",
       "    <tr>\n",
       "      <th>2</th>\n",
       "      <td>1.084</td>\n",
       "      <td>1.086</td>\n",
       "      <td>1.086</td>\n",
       "      <td>1.084</td>\n",
       "      <td>51.2</td>\n",
       "      <td>57.214566</td>\n",
       "      <td>1.0</td>\n",
       "      <td>1.081571</td>\n",
       "      <td>-28.571429</td>\n",
       "      <td>0.401921</td>\n",
       "      <td>...</td>\n",
       "      <td>-0.000000</td>\n",
       "      <td>0.169761</td>\n",
       "      <td>70.846075</td>\n",
       "      <td>49.4</td>\n",
       "      <td>57.210881</td>\n",
       "      <td>1.0</td>\n",
       "      <td>1.080143</td>\n",
       "      <td>-33.333333</td>\n",
       "      <td>0.150430</td>\n",
       "      <td>6.391347</td>\n",
       "    </tr>\n",
       "    <tr>\n",
       "      <th>3</th>\n",
       "      <td>1.082</td>\n",
       "      <td>1.084</td>\n",
       "      <td>1.084</td>\n",
       "      <td>1.082</td>\n",
       "      <td>48.6</td>\n",
       "      <td>50.061647</td>\n",
       "      <td>1.0</td>\n",
       "      <td>1.081429</td>\n",
       "      <td>-42.857143</td>\n",
       "      <td>0.545613</td>\n",
       "      <td>...</td>\n",
       "      <td>-0.000000</td>\n",
       "      <td>0.299376</td>\n",
       "      <td>121.990369</td>\n",
       "      <td>54.7</td>\n",
       "      <td>64.351811</td>\n",
       "      <td>1.0</td>\n",
       "      <td>1.080857</td>\n",
       "      <td>-0.000000</td>\n",
       "      <td>0.169761</td>\n",
       "      <td>70.846075</td>\n",
       "    </tr>\n",
       "    <tr>\n",
       "      <th>4</th>\n",
       "      <td>1.086</td>\n",
       "      <td>1.084</td>\n",
       "      <td>1.086</td>\n",
       "      <td>1.084</td>\n",
       "      <td>53.8</td>\n",
       "      <td>57.212660</td>\n",
       "      <td>1.0</td>\n",
       "      <td>1.081857</td>\n",
       "      <td>-14.285714</td>\n",
       "      <td>0.632391</td>\n",
       "      <td>...</td>\n",
       "      <td>-28.571429</td>\n",
       "      <td>0.401921</td>\n",
       "      <td>57.324841</td>\n",
       "      <td>57.1</td>\n",
       "      <td>64.370651</td>\n",
       "      <td>1.0</td>\n",
       "      <td>1.081429</td>\n",
       "      <td>-0.000000</td>\n",
       "      <td>0.299376</td>\n",
       "      <td>121.990369</td>\n",
       "    </tr>\n",
       "    <tr>\n",
       "      <th>...</th>\n",
       "      <td>...</td>\n",
       "      <td>...</td>\n",
       "      <td>...</td>\n",
       "      <td>...</td>\n",
       "      <td>...</td>\n",
       "      <td>...</td>\n",
       "      <td>...</td>\n",
       "      <td>...</td>\n",
       "      <td>...</td>\n",
       "      <td>...</td>\n",
       "      <td>...</td>\n",
       "      <td>...</td>\n",
       "      <td>...</td>\n",
       "      <td>...</td>\n",
       "      <td>...</td>\n",
       "      <td>...</td>\n",
       "      <td>...</td>\n",
       "      <td>...</td>\n",
       "      <td>...</td>\n",
       "      <td>...</td>\n",
       "      <td>...</td>\n",
       "    </tr>\n",
       "    <tr>\n",
       "      <th>1134</th>\n",
       "      <td>1.136</td>\n",
       "      <td>1.138</td>\n",
       "      <td>1.138</td>\n",
       "      <td>1.136</td>\n",
       "      <td>47.9</td>\n",
       "      <td>57.171506</td>\n",
       "      <td>1.0</td>\n",
       "      <td>1.139857</td>\n",
       "      <td>-66.666667</td>\n",
       "      <td>0.177779</td>\n",
       "      <td>...</td>\n",
       "      <td>-44.444444</td>\n",
       "      <td>0.615195</td>\n",
       "      <td>81.747710</td>\n",
       "      <td>56.8</td>\n",
       "      <td>71.454857</td>\n",
       "      <td>1.0</td>\n",
       "      <td>1.139000</td>\n",
       "      <td>-33.333333</td>\n",
       "      <td>0.740858</td>\n",
       "      <td>127.822426</td>\n",
       "    </tr>\n",
       "    <tr>\n",
       "      <th>1135</th>\n",
       "      <td>1.134</td>\n",
       "      <td>1.136</td>\n",
       "      <td>1.136</td>\n",
       "      <td>1.134</td>\n",
       "      <td>45.2</td>\n",
       "      <td>57.157178</td>\n",
       "      <td>1.0</td>\n",
       "      <td>1.140143</td>\n",
       "      <td>-87.500000</td>\n",
       "      <td>0.000017</td>\n",
       "      <td>...</td>\n",
       "      <td>-55.555556</td>\n",
       "      <td>0.453013</td>\n",
       "      <td>44.067797</td>\n",
       "      <td>53.7</td>\n",
       "      <td>64.316168</td>\n",
       "      <td>1.0</td>\n",
       "      <td>1.139429</td>\n",
       "      <td>-44.444444</td>\n",
       "      <td>0.615195</td>\n",
       "      <td>81.747710</td>\n",
       "    </tr>\n",
       "    <tr>\n",
       "      <th>1136</th>\n",
       "      <td>1.132</td>\n",
       "      <td>1.134</td>\n",
       "      <td>1.134</td>\n",
       "      <td>1.132</td>\n",
       "      <td>42.6</td>\n",
       "      <td>50.058480</td>\n",
       "      <td>1.0</td>\n",
       "      <td>1.140000</td>\n",
       "      <td>-100.000000</td>\n",
       "      <td>0.150769</td>\n",
       "      <td>...</td>\n",
       "      <td>-66.666667</td>\n",
       "      <td>0.177779</td>\n",
       "      <td>11.986301</td>\n",
       "      <td>50.8</td>\n",
       "      <td>57.185841</td>\n",
       "      <td>1.0</td>\n",
       "      <td>1.139571</td>\n",
       "      <td>-55.555556</td>\n",
       "      <td>0.453013</td>\n",
       "      <td>44.067797</td>\n",
       "    </tr>\n",
       "    <tr>\n",
       "      <th>1137</th>\n",
       "      <td>1.136</td>\n",
       "      <td>1.134</td>\n",
       "      <td>1.136</td>\n",
       "      <td>1.134</td>\n",
       "      <td>48.9</td>\n",
       "      <td>50.058480</td>\n",
       "      <td>1.0</td>\n",
       "      <td>1.140000</td>\n",
       "      <td>-75.000000</td>\n",
       "      <td>0.372308</td>\n",
       "      <td>...</td>\n",
       "      <td>-87.500000</td>\n",
       "      <td>0.000017</td>\n",
       "      <td>-21.048999</td>\n",
       "      <td>47.9</td>\n",
       "      <td>57.171506</td>\n",
       "      <td>1.0</td>\n",
       "      <td>1.139857</td>\n",
       "      <td>-66.666667</td>\n",
       "      <td>0.177779</td>\n",
       "      <td>11.986301</td>\n",
       "    </tr>\n",
       "    <tr>\n",
       "      <th>1138</th>\n",
       "      <td>1.132</td>\n",
       "      <td>1.134</td>\n",
       "      <td>1.134</td>\n",
       "      <td>1.132</td>\n",
       "      <td>43.7</td>\n",
       "      <td>42.944888</td>\n",
       "      <td>1.0</td>\n",
       "      <td>1.139571</td>\n",
       "      <td>-100.000000</td>\n",
       "      <td>0.636240</td>\n",
       "      <td>...</td>\n",
       "      <td>-100.000000</td>\n",
       "      <td>0.150769</td>\n",
       "      <td>-53.475936</td>\n",
       "      <td>45.2</td>\n",
       "      <td>57.157178</td>\n",
       "      <td>1.0</td>\n",
       "      <td>1.140143</td>\n",
       "      <td>-87.500000</td>\n",
       "      <td>0.000017</td>\n",
       "      <td>-21.048999</td>\n",
       "    </tr>\n",
       "  </tbody>\n",
       "</table>\n",
       "<p>1139 rows × 32 columns</p>\n",
       "</div>"
      ],
      "text/plain": [
       "      close_price  open_price  high_price  low_price  rsi1       mfi1  tv1  \\\n",
       "0           1.086       1.084       1.086      1.084  54.7  64.351811  1.0   \n",
       "1           1.088       1.086       1.088      1.086  57.1  64.370651  1.0   \n",
       "2           1.084       1.086       1.086      1.084  51.2  57.214566  1.0   \n",
       "3           1.082       1.084       1.084      1.082  48.6  50.061647  1.0   \n",
       "4           1.086       1.084       1.086      1.084  53.8  57.212660  1.0   \n",
       "...           ...         ...         ...        ...   ...        ...  ...   \n",
       "1134        1.136       1.138       1.138      1.136  47.9  57.171506  1.0   \n",
       "1135        1.134       1.136       1.136      1.134  45.2  57.157178  1.0   \n",
       "1136        1.132       1.134       1.134      1.132  42.6  50.058480  1.0   \n",
       "1137        1.136       1.134       1.136      1.134  48.9  50.058480  1.0   \n",
       "1138        1.132       1.134       1.134      1.132  43.7  42.944888  1.0   \n",
       "\n",
       "          sma1   williams1    regrs1  ...   williams3    regrs3        cci3  \\\n",
       "0     1.080857   -0.000000  0.169761  ...   -0.000000  0.150430   60.736490   \n",
       "1     1.081429   -0.000000  0.299376  ...  -33.333333  0.150430    6.391347   \n",
       "2     1.081571  -28.571429  0.401921  ...   -0.000000  0.169761   70.846075   \n",
       "3     1.081429  -42.857143  0.545613  ...   -0.000000  0.299376  121.990369   \n",
       "4     1.081857  -14.285714  0.632391  ...  -28.571429  0.401921   57.324841   \n",
       "...        ...         ...       ...  ...         ...       ...         ...   \n",
       "1134  1.139857  -66.666667  0.177779  ...  -44.444444  0.615195   81.747710   \n",
       "1135  1.140143  -87.500000  0.000017  ...  -55.555556  0.453013   44.067797   \n",
       "1136  1.140000 -100.000000  0.150769  ...  -66.666667  0.177779   11.986301   \n",
       "1137  1.140000  -75.000000  0.372308  ...  -87.500000  0.000017  -21.048999   \n",
       "1138  1.139571 -100.000000  0.636240  ... -100.000000  0.150769  -53.475936   \n",
       "\n",
       "      rsi4       mfi4  tv4      sma4  williams4    regrs4        cci4  \n",
       "0     52.8  50.061761  1.0  1.079429  -0.000000  0.025743   14.184397  \n",
       "1     55.4  57.226020  1.0  1.079857  -0.000000  0.150430   60.736490  \n",
       "2     49.4  57.210881  1.0  1.080143 -33.333333  0.150430    6.391347  \n",
       "3     54.7  64.351811  1.0  1.080857  -0.000000  0.169761   70.846075  \n",
       "4     57.1  64.370651  1.0  1.081429  -0.000000  0.299376  121.990369  \n",
       "...    ...        ...  ...       ...        ...       ...         ...  \n",
       "1134  56.8  71.454857  1.0  1.139000 -33.333333  0.740858  127.822426  \n",
       "1135  53.7  64.316168  1.0  1.139429 -44.444444  0.615195   81.747710  \n",
       "1136  50.8  57.185841  1.0  1.139571 -55.555556  0.453013   44.067797  \n",
       "1137  47.9  57.171506  1.0  1.139857 -66.666667  0.177779   11.986301  \n",
       "1138  45.2  57.157178  1.0  1.140143 -87.500000  0.000017  -21.048999  \n",
       "\n",
       "[1139 rows x 32 columns]"
      ]
     },
     "execution_count": 45,
     "metadata": {},
     "output_type": "execute_result"
    }
   ],
   "source": [
    "testdf.drop(columns=\"Datum\")"
   ]
  },
  {
   "cell_type": "code",
   "execution_count": 46,
   "metadata": {},
   "outputs": [
    {
     "data": {
      "text/html": [
       "<style>#sk-container-id-2 {color: black;}#sk-container-id-2 pre{padding: 0;}#sk-container-id-2 div.sk-toggleable {background-color: white;}#sk-container-id-2 label.sk-toggleable__label {cursor: pointer;display: block;width: 100%;margin-bottom: 0;padding: 0.3em;box-sizing: border-box;text-align: center;}#sk-container-id-2 label.sk-toggleable__label-arrow:before {content: \"▸\";float: left;margin-right: 0.25em;color: #696969;}#sk-container-id-2 label.sk-toggleable__label-arrow:hover:before {color: black;}#sk-container-id-2 div.sk-estimator:hover label.sk-toggleable__label-arrow:before {color: black;}#sk-container-id-2 div.sk-toggleable__content {max-height: 0;max-width: 0;overflow: hidden;text-align: left;background-color: #f0f8ff;}#sk-container-id-2 div.sk-toggleable__content pre {margin: 0.2em;color: black;border-radius: 0.25em;background-color: #f0f8ff;}#sk-container-id-2 input.sk-toggleable__control:checked~div.sk-toggleable__content {max-height: 200px;max-width: 100%;overflow: auto;}#sk-container-id-2 input.sk-toggleable__control:checked~label.sk-toggleable__label-arrow:before {content: \"▾\";}#sk-container-id-2 div.sk-estimator input.sk-toggleable__control:checked~label.sk-toggleable__label {background-color: #d4ebff;}#sk-container-id-2 div.sk-label input.sk-toggleable__control:checked~label.sk-toggleable__label {background-color: #d4ebff;}#sk-container-id-2 input.sk-hidden--visually {border: 0;clip: rect(1px 1px 1px 1px);clip: rect(1px, 1px, 1px, 1px);height: 1px;margin: -1px;overflow: hidden;padding: 0;position: absolute;width: 1px;}#sk-container-id-2 div.sk-estimator {font-family: monospace;background-color: #f0f8ff;border: 1px dotted black;border-radius: 0.25em;box-sizing: border-box;margin-bottom: 0.5em;}#sk-container-id-2 div.sk-estimator:hover {background-color: #d4ebff;}#sk-container-id-2 div.sk-parallel-item::after {content: \"\";width: 100%;border-bottom: 1px solid gray;flex-grow: 1;}#sk-container-id-2 div.sk-label:hover label.sk-toggleable__label {background-color: #d4ebff;}#sk-container-id-2 div.sk-serial::before {content: \"\";position: absolute;border-left: 1px solid gray;box-sizing: border-box;top: 0;bottom: 0;left: 50%;z-index: 0;}#sk-container-id-2 div.sk-serial {display: flex;flex-direction: column;align-items: center;background-color: white;padding-right: 0.2em;padding-left: 0.2em;position: relative;}#sk-container-id-2 div.sk-item {position: relative;z-index: 1;}#sk-container-id-2 div.sk-parallel {display: flex;align-items: stretch;justify-content: center;background-color: white;position: relative;}#sk-container-id-2 div.sk-item::before, #sk-container-id-2 div.sk-parallel-item::before {content: \"\";position: absolute;border-left: 1px solid gray;box-sizing: border-box;top: 0;bottom: 0;left: 50%;z-index: -1;}#sk-container-id-2 div.sk-parallel-item {display: flex;flex-direction: column;z-index: 1;position: relative;background-color: white;}#sk-container-id-2 div.sk-parallel-item:first-child::after {align-self: flex-end;width: 50%;}#sk-container-id-2 div.sk-parallel-item:last-child::after {align-self: flex-start;width: 50%;}#sk-container-id-2 div.sk-parallel-item:only-child::after {width: 0;}#sk-container-id-2 div.sk-dashed-wrapped {border: 1px dashed gray;margin: 0 0.4em 0.5em 0.4em;box-sizing: border-box;padding-bottom: 0.4em;background-color: white;}#sk-container-id-2 div.sk-label label {font-family: monospace;font-weight: bold;display: inline-block;line-height: 1.2em;}#sk-container-id-2 div.sk-label-container {text-align: center;}#sk-container-id-2 div.sk-container {/* jupyter's `normalize.less` sets `[hidden] { display: none; }` but bootstrap.min.css set `[hidden] { display: none !important; }` so we also need the `!important` here to be able to override the default hidden behavior on the sphinx rendered scikit-learn.org. See: https://github.com/scikit-learn/scikit-learn/issues/21755 */display: inline-block !important;position: relative;}#sk-container-id-2 div.sk-text-repr-fallback {display: none;}</style><div id=\"sk-container-id-2\" class=\"sk-top-container\"><div class=\"sk-text-repr-fallback\"><pre>CustomPipeline(cols_to_normalize=[&#x27;rsi&#x27;, &#x27;mfi&#x27;, &#x27;regrs&#x27;, &#x27;cci&#x27;, &#x27;sma&#x27;, &#x27;tv&#x27;],\n",
       "               window=4)</pre><b>In a Jupyter environment, please rerun this cell to show the HTML representation or trust the notebook. <br />On GitHub, the HTML representation is unable to render, please try loading this page with nbviewer.org.</b></div><div class=\"sk-container\" hidden><div class=\"sk-item\"><div class=\"sk-estimator sk-toggleable\"><input class=\"sk-toggleable__control sk-hidden--visually\" id=\"sk-estimator-id-2\" type=\"checkbox\" checked><label for=\"sk-estimator-id-2\" class=\"sk-toggleable__label sk-toggleable__label-arrow\">CustomPipeline</label><div class=\"sk-toggleable__content\"><pre>CustomPipeline(cols_to_normalize=[&#x27;rsi&#x27;, &#x27;mfi&#x27;, &#x27;regrs&#x27;, &#x27;cci&#x27;, &#x27;sma&#x27;, &#x27;tv&#x27;],\n",
       "               window=4)</pre></div></div></div></div></div>"
      ],
      "text/plain": [
       "CustomPipeline(cols_to_normalize=['rsi', 'mfi', 'regrs', 'cci', 'sma', 'tv'],\n",
       "               window=4)"
      ]
     },
     "execution_count": 46,
     "metadata": {},
     "output_type": "execute_result"
    }
   ],
   "source": [
    "t.fit(X = testdf, y = ydf['y'])"
   ]
  },
  {
   "cell_type": "code",
   "execution_count": 47,
   "metadata": {},
   "outputs": [
    {
     "data": {
      "text/plain": [
       "array([0, 0, 1])"
      ]
     },
     "execution_count": 47,
     "metadata": {},
     "output_type": "execute_result"
    }
   ],
   "source": [
    "t.predict(testdf[1:4])"
   ]
  },
  {
   "cell_type": "code",
   "execution_count": 48,
   "metadata": {},
   "outputs": [
    {
     "data": {
      "text/html": [
       "<div>\n",
       "<style scoped>\n",
       "    .dataframe tbody tr th:only-of-type {\n",
       "        vertical-align: middle;\n",
       "    }\n",
       "\n",
       "    .dataframe tbody tr th {\n",
       "        vertical-align: top;\n",
       "    }\n",
       "\n",
       "    .dataframe thead th {\n",
       "        text-align: right;\n",
       "    }\n",
       "</style>\n",
       "<table border=\"1\" class=\"dataframe\">\n",
       "  <thead>\n",
       "    <tr style=\"text-align: right;\">\n",
       "      <th></th>\n",
       "      <th>Datum</th>\n",
       "      <th>close_price</th>\n",
       "      <th>open_price</th>\n",
       "      <th>high_price</th>\n",
       "      <th>low_price</th>\n",
       "      <th>rsi1</th>\n",
       "      <th>mfi1</th>\n",
       "      <th>tv1</th>\n",
       "      <th>sma1</th>\n",
       "      <th>williams1</th>\n",
       "      <th>...</th>\n",
       "      <th>williams3</th>\n",
       "      <th>regrs3</th>\n",
       "      <th>cci3</th>\n",
       "      <th>rsi4</th>\n",
       "      <th>mfi4</th>\n",
       "      <th>tv4</th>\n",
       "      <th>sma4</th>\n",
       "      <th>williams4</th>\n",
       "      <th>regrs4</th>\n",
       "      <th>cci4</th>\n",
       "    </tr>\n",
       "  </thead>\n",
       "  <tbody>\n",
       "    <tr>\n",
       "      <th>1</th>\n",
       "      <td>2020-04-28 11:36:42</td>\n",
       "      <td>1.088</td>\n",
       "      <td>1.086</td>\n",
       "      <td>1.088</td>\n",
       "      <td>1.086</td>\n",
       "      <td>57.1</td>\n",
       "      <td>64.370651</td>\n",
       "      <td>1.0</td>\n",
       "      <td>1.081429</td>\n",
       "      <td>-0.000000</td>\n",
       "      <td>...</td>\n",
       "      <td>-33.333333</td>\n",
       "      <td>0.150430</td>\n",
       "      <td>6.391347</td>\n",
       "      <td>55.4</td>\n",
       "      <td>57.226020</td>\n",
       "      <td>1.0</td>\n",
       "      <td>1.079857</td>\n",
       "      <td>-0.000000</td>\n",
       "      <td>0.150430</td>\n",
       "      <td>60.736490</td>\n",
       "    </tr>\n",
       "    <tr>\n",
       "      <th>2</th>\n",
       "      <td>2020-04-28 15:58:46</td>\n",
       "      <td>1.084</td>\n",
       "      <td>1.086</td>\n",
       "      <td>1.086</td>\n",
       "      <td>1.084</td>\n",
       "      <td>51.2</td>\n",
       "      <td>57.214566</td>\n",
       "      <td>1.0</td>\n",
       "      <td>1.081571</td>\n",
       "      <td>-28.571429</td>\n",
       "      <td>...</td>\n",
       "      <td>-0.000000</td>\n",
       "      <td>0.169761</td>\n",
       "      <td>70.846075</td>\n",
       "      <td>49.4</td>\n",
       "      <td>57.210881</td>\n",
       "      <td>1.0</td>\n",
       "      <td>1.080143</td>\n",
       "      <td>-33.333333</td>\n",
       "      <td>0.150430</td>\n",
       "      <td>6.391347</td>\n",
       "    </tr>\n",
       "    <tr>\n",
       "      <th>3</th>\n",
       "      <td>2020-04-28 22:44:10</td>\n",
       "      <td>1.082</td>\n",
       "      <td>1.084</td>\n",
       "      <td>1.084</td>\n",
       "      <td>1.082</td>\n",
       "      <td>48.6</td>\n",
       "      <td>50.061647</td>\n",
       "      <td>1.0</td>\n",
       "      <td>1.081429</td>\n",
       "      <td>-42.857143</td>\n",
       "      <td>...</td>\n",
       "      <td>-0.000000</td>\n",
       "      <td>0.299376</td>\n",
       "      <td>121.990369</td>\n",
       "      <td>54.7</td>\n",
       "      <td>64.351811</td>\n",
       "      <td>1.0</td>\n",
       "      <td>1.080857</td>\n",
       "      <td>-0.000000</td>\n",
       "      <td>0.169761</td>\n",
       "      <td>70.846075</td>\n",
       "    </tr>\n",
       "  </tbody>\n",
       "</table>\n",
       "<p>3 rows × 33 columns</p>\n",
       "</div>"
      ],
      "text/plain": [
       "                Datum  close_price  open_price  high_price  low_price  rsi1  \\\n",
       "1 2020-04-28 11:36:42        1.088       1.086       1.088      1.086  57.1   \n",
       "2 2020-04-28 15:58:46        1.084       1.086       1.086      1.084  51.2   \n",
       "3 2020-04-28 22:44:10        1.082       1.084       1.084      1.082  48.6   \n",
       "\n",
       "        mfi1  tv1      sma1  williams1  ...  williams3    regrs3        cci3  \\\n",
       "1  64.370651  1.0  1.081429  -0.000000  ... -33.333333  0.150430    6.391347   \n",
       "2  57.214566  1.0  1.081571 -28.571429  ...  -0.000000  0.169761   70.846075   \n",
       "3  50.061647  1.0  1.081429 -42.857143  ...  -0.000000  0.299376  121.990369   \n",
       "\n",
       "   rsi4       mfi4  tv4      sma4  williams4    regrs4       cci4  \n",
       "1  55.4  57.226020  1.0  1.079857  -0.000000  0.150430  60.736490  \n",
       "2  49.4  57.210881  1.0  1.080143 -33.333333  0.150430   6.391347  \n",
       "3  54.7  64.351811  1.0  1.080857  -0.000000  0.169761  70.846075  \n",
       "\n",
       "[3 rows x 33 columns]"
      ]
     },
     "execution_count": 48,
     "metadata": {},
     "output_type": "execute_result"
    }
   ],
   "source": [
    "testdf[1:4]"
   ]
  },
  {
   "cell_type": "code",
   "execution_count": 49,
   "metadata": {},
   "outputs": [
    {
     "data": {
      "text/plain": [
       "['model.pkl']"
      ]
     },
     "execution_count": 49,
     "metadata": {},
     "output_type": "execute_result"
    }
   ],
   "source": [
    "\n",
    "joblib.dump(t, 'model.pkl')"
   ]
  },
  {
   "cell_type": "code",
   "execution_count": 50,
   "metadata": {},
   "outputs": [],
   "source": [
    "data = {'Datum': '16.11.2023 13:00:00', 'close_price': '1964.280000', 'open_price': '1965.490000', 'high_price': '1965.590000', 'low_price': '1962.030000', 'rsi1': '52.240715', 'mfi1': '58.320196', 'tv1': '9509.000000', 'sma1': '1963.389286', 'williams1': '-34.958678', 'regrs1': '0.648926', 'cci1': '-10.114994', 'rsi2': '52.240715', 'mfi2': '58.320196', 'tv2': '9509.000000', 'sma2': '1963.389286', 'williams2': '-34.958678', 'regrs2': '0.648926', 'cci2': '-10.114994', 'rsi3': '52.240715', 'mfi3': '58.320196', 'tv3': '9509.000000', 'sma3': '1963.389286', 'williams3': '-34.958678', 'regrs3': '0.648926', 'cci3': '-10.114994', 'rsi4': '52.240715', 'mfi4': '58.320196', 'tv4': '9509.000000', 'sma4': '1963.389286', 'williams4': '-34.958678', 'regrs4': '0.648926', 'cci4': '-10.114994'}"
   ]
  },
  {
   "cell_type": "code",
   "execution_count": 51,
   "metadata": {},
   "outputs": [
    {
     "data": {
      "text/html": [
       "<div>\n",
       "<style scoped>\n",
       "    .dataframe tbody tr th:only-of-type {\n",
       "        vertical-align: middle;\n",
       "    }\n",
       "\n",
       "    .dataframe tbody tr th {\n",
       "        vertical-align: top;\n",
       "    }\n",
       "\n",
       "    .dataframe thead th {\n",
       "        text-align: right;\n",
       "    }\n",
       "</style>\n",
       "<table border=\"1\" class=\"dataframe\">\n",
       "  <thead>\n",
       "    <tr style=\"text-align: right;\">\n",
       "      <th></th>\n",
       "      <th>Datum</th>\n",
       "      <th>close_price</th>\n",
       "      <th>open_price</th>\n",
       "      <th>high_price</th>\n",
       "      <th>low_price</th>\n",
       "      <th>rsi1</th>\n",
       "      <th>mfi1</th>\n",
       "      <th>tv1</th>\n",
       "      <th>sma1</th>\n",
       "      <th>williams1</th>\n",
       "      <th>...</th>\n",
       "      <th>williams3</th>\n",
       "      <th>regrs3</th>\n",
       "      <th>cci3</th>\n",
       "      <th>rsi4</th>\n",
       "      <th>mfi4</th>\n",
       "      <th>tv4</th>\n",
       "      <th>sma4</th>\n",
       "      <th>williams4</th>\n",
       "      <th>regrs4</th>\n",
       "      <th>cci4</th>\n",
       "    </tr>\n",
       "  </thead>\n",
       "  <tbody>\n",
       "    <tr>\n",
       "      <th>0</th>\n",
       "      <td>16.11.2023 13:00:00</td>\n",
       "      <td>1964.28</td>\n",
       "      <td>1965.49</td>\n",
       "      <td>1965.59</td>\n",
       "      <td>1962.03</td>\n",
       "      <td>52.240715</td>\n",
       "      <td>58.320196</td>\n",
       "      <td>9509.0</td>\n",
       "      <td>1963.389286</td>\n",
       "      <td>-34.958678</td>\n",
       "      <td>...</td>\n",
       "      <td>-34.958678</td>\n",
       "      <td>0.648926</td>\n",
       "      <td>-10.114994</td>\n",
       "      <td>52.240715</td>\n",
       "      <td>58.320196</td>\n",
       "      <td>9509.0</td>\n",
       "      <td>1963.389286</td>\n",
       "      <td>-34.958678</td>\n",
       "      <td>0.648926</td>\n",
       "      <td>-10.114994</td>\n",
       "    </tr>\n",
       "  </tbody>\n",
       "</table>\n",
       "<p>1 rows × 33 columns</p>\n",
       "</div>"
      ],
      "text/plain": [
       "                 Datum  close_price  open_price  high_price  low_price  \\\n",
       "0  16.11.2023 13:00:00      1964.28     1965.49     1965.59    1962.03   \n",
       "\n",
       "        rsi1       mfi1     tv1         sma1  williams1  ...  williams3  \\\n",
       "0  52.240715  58.320196  9509.0  1963.389286 -34.958678  ... -34.958678   \n",
       "\n",
       "     regrs3       cci3       rsi4       mfi4     tv4         sma4  williams4  \\\n",
       "0  0.648926 -10.114994  52.240715  58.320196  9509.0  1963.389286 -34.958678   \n",
       "\n",
       "     regrs4       cci4  \n",
       "0  0.648926 -10.114994  \n",
       "\n",
       "[1 rows x 33 columns]"
      ]
     },
     "execution_count": 51,
     "metadata": {},
     "output_type": "execute_result"
    }
   ],
   "source": [
    "testdf = pd.DataFrame.from_dict(data, orient = \"index\").T\n",
    "columns_to_convert = testdf.columns.difference(['Datum'])\n",
    "def convert_to_numeric(column):\n",
    "\n",
    "        return pd.to_numeric(column, errors='coerce')\n",
    "testdf[columns_to_convert] = testdf[columns_to_convert].apply(convert_to_numeric)\n",
    "testdf"
   ]
  },
  {
   "cell_type": "code",
   "execution_count": 52,
   "metadata": {},
   "outputs": [
    {
     "data": {
      "text/plain": [
       "0.4646889961089447"
      ]
     },
     "execution_count": 52,
     "metadata": {},
     "output_type": "execute_result"
    }
   ],
   "source": [
    "float(t.predict_proba(testdf).T[1])"
   ]
  }
 ],
 "metadata": {
  "kernelspec": {
   "display_name": "trading",
   "language": "python",
   "name": "python3"
  },
  "language_info": {
   "codemirror_mode": {
    "name": "ipython",
    "version": 3
   },
   "file_extension": ".py",
   "mimetype": "text/x-python",
   "name": "python",
   "nbconvert_exporter": "python",
   "pygments_lexer": "ipython3",
   "version": "3.9.17"
  },
  "orig_nbformat": 4
 },
 "nbformat": 4,
 "nbformat_minor": 2
}
