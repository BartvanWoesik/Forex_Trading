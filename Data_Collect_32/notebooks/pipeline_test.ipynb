{
 "cells": [
  {
   "cell_type": "code",
   "execution_count": 1,
   "metadata": {},
   "outputs": [
    {
     "name": "stderr",
     "output_type": "stream",
     "text": [
      "IProgress not found. Please update jupyter and ipywidgets. See https://ipywidgets.readthedocs.io/en/stable/user_install.html\n"
     ]
    }
   ],
   "source": [
    "\n",
    "%load_ext autoreload\n",
    "%autoreload 2\n",
    "import pandas as  pd\n",
    "import numpy as np\n",
    "from sklearn.metrics import precision_score\n",
    "from hydra import compose, initialize\n",
    "from hydra.utils import instantiate\n",
    "import shap\n",
    "import plotly.express as px\n",
    "\n",
    "\n",
    "from sklearn.ensemble import HistGradientBoostingClassifier\n",
    "from sklearn.metrics import roc_auc_score\n",
    "from sklearn.metrics import confusion_matrix\n",
    "from sklearn.metrics import ConfusionMatrixDisplay\n",
    "from sklearn.calibration import CalibrationDisplay\n"
   ]
  },
  {
   "cell_type": "code",
   "execution_count": 2,
   "metadata": {},
   "outputs": [],
   "source": [
    "from Data_Collect_32.process_data.dataset import Dataset\n",
    "from Data_Collect_32.process_data.data_splitter import data_splitter\n",
    "from Data_Collect_32.process_data.data_window import add_normalized_cols, add_time_cols"
   ]
  },
  {
   "cell_type": "code",
   "execution_count": 3,
   "metadata": {},
   "outputs": [
    {
     "name": "stderr",
     "output_type": "stream",
     "text": [
      "\n",
      "The version_base parameter is not specified.\n",
      "Please specify a compatability version level, or None.\n",
      "Will assume defaults for version 1.1\n"
     ]
    }
   ],
   "source": [
    "initialize(config_path=\"../conf/\")\n",
    "cfg = compose(config_name='config.yaml')"
   ]
  },
  {
   "cell_type": "code",
   "execution_count": 4,
   "metadata": {},
   "outputs": [],
   "source": [
    "pipeline = instantiate(cfg.data_pipeline)"
   ]
  },
  {
   "cell_type": "code",
   "execution_count": 5,
   "metadata": {},
   "outputs": [],
   "source": [
    "df = pd.read_csv('../data/Data_collect_32.csv')\n",
    "df = pipeline.apply(df.copy())"
   ]
  },
  {
   "cell_type": "code",
   "execution_count": 6,
   "metadata": {},
   "outputs": [
    {
     "data": {
      "text/plain": [
       "74"
      ]
     },
     "execution_count": 6,
     "metadata": {},
     "output_type": "execute_result"
    }
   ],
   "source": [
    "window = 10\n",
    "model_features = [ 'rsi', 'mfi', 'regrs', 'cci']\n",
    "model_features += ['rsi_norm_' + str(i) for i in range(0,window)]\n",
    "model_features += ['mfi_norm_' + str(i) for i in range(0,window)]\n",
    "model_features += ['williams_' + str(i) for i in range(0,window)]\n",
    "model_features += ['tv_norm_' + str(i) for i in range(0,window)]\n",
    "model_features += ['regrs_norm_' + str(i) for i in range(0,window)]\n",
    "model_features += ['sma_norm_' + str(i) for i in range(0,window)]\n",
    "model_features += ['cci_norm_' + str(i) for i in range(0,window)]\n",
    "len(model_features)"
   ]
  },
  {
   "cell_type": "code",
   "execution_count": 7,
   "metadata": {},
   "outputs": [
    {
     "name": "stdout",
     "output_type": "stream",
     "text": [
      "Splitted data\n"
     ]
    }
   ],
   "source": [
    "dataset = Dataset(data = df, data_splitter = data_splitter)\n",
    "clf = HistGradientBoostingClassifier( l2_regularization = 20, learning_rate=0.5, max_iter=20, max_leaf_nodes  = 20, max_depth=5, random_state=5).fit(dataset.X_train[model_features], dataset.y_train, sample_weight = dataset.X_train['sample_weight'])"
   ]
  },
  {
   "cell_type": "code",
   "execution_count": 8,
   "metadata": {},
   "outputs": [
    {
     "data": {
      "text/html": [
       "<style>#sk-container-id-1 {color: black;}#sk-container-id-1 pre{padding: 0;}#sk-container-id-1 div.sk-toggleable {background-color: white;}#sk-container-id-1 label.sk-toggleable__label {cursor: pointer;display: block;width: 100%;margin-bottom: 0;padding: 0.3em;box-sizing: border-box;text-align: center;}#sk-container-id-1 label.sk-toggleable__label-arrow:before {content: \"▸\";float: left;margin-right: 0.25em;color: #696969;}#sk-container-id-1 label.sk-toggleable__label-arrow:hover:before {color: black;}#sk-container-id-1 div.sk-estimator:hover label.sk-toggleable__label-arrow:before {color: black;}#sk-container-id-1 div.sk-toggleable__content {max-height: 0;max-width: 0;overflow: hidden;text-align: left;background-color: #f0f8ff;}#sk-container-id-1 div.sk-toggleable__content pre {margin: 0.2em;color: black;border-radius: 0.25em;background-color: #f0f8ff;}#sk-container-id-1 input.sk-toggleable__control:checked~div.sk-toggleable__content {max-height: 200px;max-width: 100%;overflow: auto;}#sk-container-id-1 input.sk-toggleable__control:checked~label.sk-toggleable__label-arrow:before {content: \"▾\";}#sk-container-id-1 div.sk-estimator input.sk-toggleable__control:checked~label.sk-toggleable__label {background-color: #d4ebff;}#sk-container-id-1 div.sk-label input.sk-toggleable__control:checked~label.sk-toggleable__label {background-color: #d4ebff;}#sk-container-id-1 input.sk-hidden--visually {border: 0;clip: rect(1px 1px 1px 1px);clip: rect(1px, 1px, 1px, 1px);height: 1px;margin: -1px;overflow: hidden;padding: 0;position: absolute;width: 1px;}#sk-container-id-1 div.sk-estimator {font-family: monospace;background-color: #f0f8ff;border: 1px dotted black;border-radius: 0.25em;box-sizing: border-box;margin-bottom: 0.5em;}#sk-container-id-1 div.sk-estimator:hover {background-color: #d4ebff;}#sk-container-id-1 div.sk-parallel-item::after {content: \"\";width: 100%;border-bottom: 1px solid gray;flex-grow: 1;}#sk-container-id-1 div.sk-label:hover label.sk-toggleable__label {background-color: #d4ebff;}#sk-container-id-1 div.sk-serial::before {content: \"\";position: absolute;border-left: 1px solid gray;box-sizing: border-box;top: 0;bottom: 0;left: 50%;z-index: 0;}#sk-container-id-1 div.sk-serial {display: flex;flex-direction: column;align-items: center;background-color: white;padding-right: 0.2em;padding-left: 0.2em;position: relative;}#sk-container-id-1 div.sk-item {position: relative;z-index: 1;}#sk-container-id-1 div.sk-parallel {display: flex;align-items: stretch;justify-content: center;background-color: white;position: relative;}#sk-container-id-1 div.sk-item::before, #sk-container-id-1 div.sk-parallel-item::before {content: \"\";position: absolute;border-left: 1px solid gray;box-sizing: border-box;top: 0;bottom: 0;left: 50%;z-index: -1;}#sk-container-id-1 div.sk-parallel-item {display: flex;flex-direction: column;z-index: 1;position: relative;background-color: white;}#sk-container-id-1 div.sk-parallel-item:first-child::after {align-self: flex-end;width: 50%;}#sk-container-id-1 div.sk-parallel-item:last-child::after {align-self: flex-start;width: 50%;}#sk-container-id-1 div.sk-parallel-item:only-child::after {width: 0;}#sk-container-id-1 div.sk-dashed-wrapped {border: 1px dashed gray;margin: 0 0.4em 0.5em 0.4em;box-sizing: border-box;padding-bottom: 0.4em;background-color: white;}#sk-container-id-1 div.sk-label label {font-family: monospace;font-weight: bold;display: inline-block;line-height: 1.2em;}#sk-container-id-1 div.sk-label-container {text-align: center;}#sk-container-id-1 div.sk-container {/* jupyter's `normalize.less` sets `[hidden] { display: none; }` but bootstrap.min.css set `[hidden] { display: none !important; }` so we also need the `!important` here to be able to override the default hidden behavior on the sphinx rendered scikit-learn.org. See: https://github.com/scikit-learn/scikit-learn/issues/21755 */display: inline-block !important;position: relative;}#sk-container-id-1 div.sk-text-repr-fallback {display: none;}</style><div id=\"sk-container-id-1\" class=\"sk-top-container\"><div class=\"sk-text-repr-fallback\"><pre>HistGradientBoostingClassifier(l2_regularization=20, learning_rate=0.5,\n",
       "                               max_bins=25, max_depth=5, max_iter=5,\n",
       "                               max_leaf_nodes=66, min_samples_leaf=1,\n",
       "                               random_state=1)</pre><b>In a Jupyter environment, please rerun this cell to show the HTML representation or trust the notebook. <br />On GitHub, the HTML representation is unable to render, please try loading this page with nbviewer.org.</b></div><div class=\"sk-container\" hidden><div class=\"sk-item\"><div class=\"sk-estimator sk-toggleable\"><input class=\"sk-toggleable__control sk-hidden--visually\" id=\"sk-estimator-id-1\" type=\"checkbox\" checked><label for=\"sk-estimator-id-1\" class=\"sk-toggleable__label sk-toggleable__label-arrow\">HistGradientBoostingClassifier</label><div class=\"sk-toggleable__content\"><pre>HistGradientBoostingClassifier(l2_regularization=20, learning_rate=0.5,\n",
       "                               max_bins=25, max_depth=5, max_iter=5,\n",
       "                               max_leaf_nodes=66, min_samples_leaf=1,\n",
       "                               random_state=1)</pre></div></div></div></div></div>"
      ],
      "text/plain": [
       "HistGradientBoostingClassifier(l2_regularization=20, learning_rate=0.5,\n",
       "                               max_bins=25, max_depth=5, max_iter=5,\n",
       "                               max_leaf_nodes=66, min_samples_leaf=1,\n",
       "                               random_state=1)"
      ]
     },
     "execution_count": 8,
     "metadata": {},
     "output_type": "execute_result"
    }
   ],
   "source": [
    "HistGradientBoostingClassifier(**cfg.model.model_params)"
   ]
  },
  {
   "cell_type": "code",
   "execution_count": 9,
   "metadata": {},
   "outputs": [
    {
     "name": "stdout",
     "output_type": "stream",
     "text": [
      "roc_test: 1.0\n",
      "precision_test: 1.0\n"
     ]
    }
   ],
   "source": [
    "roc_test = roc_auc_score(dataset.y_train, clf.predict_proba(dataset.X_train[model_features]).T[1])\n",
    "precision_test = precision_score(dataset.y_train, clf.predict(dataset.X_train[model_features]))\n",
    "\n",
    "print(f'roc_test: {roc_test}')\n",
    "print(f'precision_test: {precision_test}')"
   ]
  },
  {
   "cell_type": "code",
   "execution_count": 10,
   "metadata": {},
   "outputs": [
    {
     "name": "stdout",
     "output_type": "stream",
     "text": [
      "roc_test: 1.0\n",
      "precision_test: 1.0\n"
     ]
    }
   ],
   "source": [
    "roc_test = roc_auc_score(dataset.y_test, clf.predict_proba(dataset.X_test[model_features]).T[1])\n",
    "precision_test = precision_score(dataset.y_test, clf.predict(dataset.X_test[model_features]))\n",
    "\n",
    "print(f'roc_test: {roc_test}')\n",
    "print(f'precision_test: {precision_test}')"
   ]
  },
  {
   "cell_type": "code",
   "execution_count": 11,
   "metadata": {},
   "outputs": [
    {
     "name": "stdout",
     "output_type": "stream",
     "text": [
      "roc_oot: 0.9999999999999999\n",
      "precision_oot: 1.0\n"
     ]
    }
   ],
   "source": [
    "roc_test = roc_auc_score(dataset.y_oot, clf.predict_proba(dataset.X_oot[model_features]).T[1])\n",
    "precision_test = precision_score(dataset.y_oot, clf.predict(dataset.X_oot[model_features]))\n",
    "\n",
    "print(f'roc_oot: {roc_test}')\n",
    "print(f'precision_oot: {precision_test}')"
   ]
  },
  {
   "cell_type": "code",
   "execution_count": 12,
   "metadata": {},
   "outputs": [],
   "source": [
    "# explainer = shap.TreeExplainer(clf, dataset.X_test[model_features])\n",
    "# shap_values = explainer(dataset.X_train[model_features], check_additivity =  False)\n",
    "# prediction = clf.predict_proba(dataset.X_train[model_features])\n",
    "# shap.plots.beeswarm(shap_values, max_display=70)"
   ]
  },
  {
   "cell_type": "code",
   "execution_count": 13,
   "metadata": {},
   "outputs": [
    {
     "data": {
      "text/plain": [
       "<Axes: >"
      ]
     },
     "execution_count": 13,
     "metadata": {},
     "output_type": "execute_result"
    },
    {
     "data": {
      "image/png": "[encoded data removed]",
      "text/plain": [
       "<Figure size 640x480 with 1 Axes>"
      ]
     },
     "metadata": {},
     "output_type": "display_data"
    }
   ],
   "source": [
    "pd.Series(clf.predict_proba(dataset.X_test[model_features]).T[1]).hist(bins = 20)"
   ]
  },
  {
   "cell_type": "code",
   "execution_count": 14,
   "metadata": {},
   "outputs": [],
   "source": [
    "\n",
    "pred = [1 if d > 0.8 else 0 for d in clf.predict_proba(dataset.X_oot[model_features]).T[1]]"
   ]
  },
  {
   "cell_type": "code",
   "execution_count": 15,
   "metadata": {},
   "outputs": [],
   "source": [
    "\n",
    "from datetime import datetime\n",
    "def calculate_time_difference(date_str1, date_str2):\n",
    "    date_format = '%d.%m.%Y %H:%M:%S'\n",
    "    dates = dataset.X_oot['Datum'].apply(lambda x: datetime.strptime(x, date_format))\n",
    "    date1 = min(dates)\n",
    "    date2 = max(dates)\n",
    "    \n",
    "    time_difference = date2 - date1\n",
    "    \n",
    "    days = time_difference.days\n",
    "    \n",
    "    print(date1)\n",
    "    print(date2)\n",
    "    return {'days': days,}\n"
   ]
  },
  {
   "cell_type": "code",
   "execution_count": 16,
   "metadata": {},
   "outputs": [
    {
     "name": "stdout",
     "output_type": "stream",
     "text": [
      "0.3558400000000001\n"
     ]
    },
    {
     "data": {
      "application/vnd.plotly.v1+json": {
       "config": {
        "plotlyServerURL": "https://plot.ly"
       },
       "data": [
        {
         "hovertemplate": "variable=diff<br>index=%{x}<br>value=%{y}<extra></extra>",
         "legendgroup": "diff",
         "line": {
          "color": "#636efa",
          "dash": "solid"
         },
         "marker": {
          "symbol": "circle"
         },
         "mode": "lines",
         "name": "diff",
         "orientation": "v",
         "showlegend": true,
         "type": "scatter",
         "x": [
          1646,
          1653,
          1654,
          1657,
          1663,
          1664,
          1668,
          1671,
          1672,
          1673,
          1674,
          1675,
          1679,
          1681,
          1682,
          1683,
          1684,
          1686,
          1687,
          1688,
          1690,
          1691,
          1692,
          1694,
          1695,
          1696,
          1697,
          1698,
          1699,
          1702,
          1703,
          1704,
          1705,
          1712,
          1713,
          1714,
          1715,
          1718,
          1723,
          1724,
          1725,
          1727,
          1731,
          1732,
          1735,
          1736,
          1737,
          1738,
          1739,
          1740,
          1741,
          1742,
          1744,
          1745,
          1746,
          1747,
          1748,
          1749,
          1750,
          1751,
          1752,
          1753,
          1754,
          1755,
          1756,
          1769,
          1770,
          1771,
          1772,
          1781,
          1782,
          1783,
          1787,
          1791,
          1792,
          1793,
          1794,
          1795,
          1800,
          1801,
          1802,
          1803,
          1804,
          1813,
          1814,
          1816,
          1820,
          1821,
          1826,
          1830,
          1831,
          1834,
          1835,
          1836,
          1837,
          1838,
          1839,
          1840,
          1845,
          1854,
          1856,
          1857,
          1859,
          1861,
          1867,
          1868,
          1869,
          1874,
          1876,
          1884,
          1885,
          1886,
          1887,
          1894,
          1895,
          1896,
          1897,
          1900,
          1901,
          1902,
          1905,
          1906,
          1907,
          1908,
          1914,
          1915,
          1916,
          1918,
          1919,
          1921,
          1922,
          1923,
          1924,
          1925,
          1932,
          1933
         ],
         "xaxis": "x",
         "y": [
          0.003940000000000003,
          0.007880000000000007,
          0.00982000000000001,
          0.013760000000000012,
          0.017700000000000014,
          0.019640000000000015,
          0.023580000000000018,
          0.02752000000000002,
          0.02946000000000002,
          0.031400000000000025,
          0.03334000000000003,
          0.035280000000000034,
          0.03922000000000004,
          0.043160000000000046,
          0.04510000000000005,
          0.047040000000000054,
          0.04898000000000006,
          0.052920000000000064,
          0.05486000000000007,
          0.05680000000000007,
          0.06074000000000008,
          0.06268000000000008,
          0.06462000000000008,
          0.06856000000000008,
          0.07050000000000008,
          0.07244000000000007,
          0.07438000000000007,
          0.07632000000000007,
          0.07826000000000007,
          0.08220000000000006,
          0.08414000000000006,
          0.08608000000000006,
          0.08802000000000006,
          0.09196000000000006,
          0.09390000000000005,
          0.09584000000000005,
          0.09778000000000005,
          0.10172000000000005,
          0.10566000000000005,
          0.10760000000000004,
          0.10954000000000004,
          0.11348000000000004,
          0.11742000000000004,
          0.11936000000000004,
          0.12330000000000003,
          0.12524000000000005,
          0.12718000000000004,
          0.12912000000000004,
          0.13106000000000004,
          0.13300000000000003,
          0.13494000000000003,
          0.13688000000000003,
          0.14082000000000003,
          0.14276000000000003,
          0.14470000000000002,
          0.14664000000000002,
          0.14858000000000002,
          0.15052000000000001,
          0.15246,
          0.1544,
          0.15634,
          0.15828,
          0.16022,
          0.16216,
          0.16409999999999977,
          0.16803999999999977,
          0.16997999999999977,
          0.17191999999999977,
          0.17385999999999976,
          0.17779999999999976,
          0.17973999999999976,
          0.18167999999999976,
          0.18561999999999976,
          0.18955999999999976,
          0.19149999999999975,
          0.19343999999999975,
          0.19537999999999975,
          0.19731999999999975,
          0.20125999999999974,
          0.20319999999999974,
          0.20513999999999974,
          0.20707999999999974,
          0.20901999999999973,
          0.21295999999999973,
          0.21489999999999973,
          0.21883999999999973,
          0.22277999999999973,
          0.22471999999999973,
          0.22865999999999972,
          0.23259999999999972,
          0.23453999999999972,
          0.23847999999999972,
          0.24041999999999972,
          0.24235999999999971,
          0.2442999999999997,
          0.2462399999999997,
          0.2481799999999997,
          0.25011999999999973,
          0.25405999999999973,
          0.25799999999999973,
          0.26193999999999973,
          0.2638799999999997,
          0.2678199999999997,
          0.2717599999999997,
          0.2756999999999997,
          0.2776399999999997,
          0.2795799999999997,
          0.2835199999999997,
          0.2874599999999997,
          0.2913999999999997,
          0.2933399999999997,
          0.2952799999999997,
          0.2972199999999997,
          0.3011599999999997,
          0.3030999999999997,
          0.3050399999999997,
          0.3069799999999997,
          0.3109199999999997,
          0.3128599999999997,
          0.3147999999999997,
          0.3187399999999997,
          0.3206799999999997,
          0.3226199999999997,
          0.3245599999999997,
          0.3284999999999997,
          0.3304399999999997,
          0.3323799999999997,
          0.3363199999999997,
          0.33825999999999967,
          0.34219999999999967,
          0.34413999999999967,
          0.34607999999999967,
          0.34801999999999966,
          0.34995999999999966,
          0.35389999999999966,
          0.35583999999999966
         ],
         "yaxis": "y"
        }
       ],
       "layout": {
        "legend": {
         "title": {
          "text": "variable"
         },
         "tracegroupgap": 0
        },
        "margin": {
         "t": 60
        },
        "template": {
         "data": {
          "bar": [
           {
            "error_x": {
             "color": "#2a3f5f"
            },
            "error_y": {
             "color": "#2a3f5f"
            },
            "marker": {
             "line": {
              "color": "#E5ECF6",
              "width": 0.5
             },
             "pattern": {
              "fillmode": "overlay",
              "size": 10,
              "solidity": 0.2
             }
            },
            "type": "bar"
           }
          ],
          "barpolar": [
           {
            "marker": {
             "line": {
              "color": "#E5ECF6",
              "width": 0.5
             },
             "pattern": {
              "fillmode": "overlay",
              "size": 10,
              "solidity": 0.2
             }
            },
            "type": "barpolar"
           }
          ],
          "carpet": [
           {
            "aaxis": {
             "endlinecolor": "#2a3f5f",
             "gridcolor": "white",
             "linecolor": "white",
             "minorgridcolor": "white",
             "startlinecolor": "#2a3f5f"
            },
            "baxis": {
             "endlinecolor": "#2a3f5f",
             "gridcolor": "white",
             "linecolor": "white",
             "minorgridcolor": "white",
             "startlinecolor": "#2a3f5f"
            },
            "type": "carpet"
           }
          ],
          "choropleth": [
           {
            "colorbar": {
             "outlinewidth": 0,
             "ticks": ""
            },
            "type": "choropleth"
           }
          ],
          "contour": [
           {
            "colorbar": {
             "outlinewidth": 0,
             "ticks": ""
            },
            "colorscale": [
             [
              0,
              "#0d0887"
             ],
             [
              0.1111111111111111,
              "#46039f"
             ],
             [
              0.2222222222222222,
              "#7201a8"
             ],
             [
              0.3333333333333333,
              "#9c179e"
             ],
             [
              0.4444444444444444,
              "#bd3786"
             ],
             [
              0.5555555555555556,
              "#d8576b"
             ],
             [
              0.6666666666666666,
              "#ed7953"
             ],
             [
              0.7777777777777778,
              "#fb9f3a"
             ],
             [
              0.8888888888888888,
              "#fdca26"
             ],
             [
              1,
              "#f0f921"
             ]
            ],
            "type": "contour"
           }
          ],
          "contourcarpet": [
           {
            "colorbar": {
             "outlinewidth": 0,
             "ticks": ""
            },
            "type": "contourcarpet"
           }
          ],
          "heatmap": [
           {
            "colorbar": {
             "outlinewidth": 0,
             "ticks": ""
            },
            "colorscale": [
             [
              0,
              "#0d0887"
             ],
             [
              0.1111111111111111,
              "#46039f"
             ],
             [
              0.2222222222222222,
              "#7201a8"
             ],
             [
              0.3333333333333333,
              "#9c179e"
             ],
             [
              0.4444444444444444,
              "#bd3786"
             ],
             [
              0.5555555555555556,
              "#d8576b"
             ],
             [
              0.6666666666666666,
              "#ed7953"
             ],
             [
              0.7777777777777778,
              "#fb9f3a"
             ],
             [
              0.8888888888888888,
              "#fdca26"
             ],
             [
              1,
              "#f0f921"
             ]
            ],
            "type": "heatmap"
           }
          ],
          "heatmapgl": [
           {
            "colorbar": {
             "outlinewidth": 0,
             "ticks": ""
            },
            "colorscale": [
             [
              0,
              "#0d0887"
             ],
             [
              0.1111111111111111,
              "#46039f"
             ],
             [
              0.2222222222222222,
              "#7201a8"
             ],
             [
              0.3333333333333333,
              "#9c179e"
             ],
             [
              0.4444444444444444,
              "#bd3786"
             ],
             [
              0.5555555555555556,
              "#d8576b"
             ],
             [
              0.6666666666666666,
              "#ed7953"
             ],
             [
              0.7777777777777778,
              "#fb9f3a"
             ],
             [
              0.8888888888888888,
              "#fdca26"
             ],
             [
              1,
              "#f0f921"
             ]
            ],
            "type": "heatmapgl"
           }
          ],
          "histogram": [
           {
            "marker": {
             "pattern": {
              "fillmode": "overlay",
              "size": 10,
              "solidity": 0.2
             }
            },
            "type": "histogram"
           }
          ],
          "histogram2d": [
           {
            "colorbar": {
             "outlinewidth": 0,
             "ticks": ""
            },
            "colorscale": [
             [
              0,
              "#0d0887"
             ],
             [
              0.1111111111111111,
              "#46039f"
             ],
             [
              0.2222222222222222,
              "#7201a8"
             ],
             [
              0.3333333333333333,
              "#9c179e"
             ],
             [
              0.4444444444444444,
              "#bd3786"
             ],
             [
              0.5555555555555556,
              "#d8576b"
             ],
             [
              0.6666666666666666,
              "#ed7953"
             ],
             [
              0.7777777777777778,
              "#fb9f3a"
             ],
             [
              0.8888888888888888,
              "#fdca26"
             ],
             [
              1,
              "#f0f921"
             ]
            ],
            "type": "histogram2d"
           }
          ],
          "histogram2dcontour": [
           {
            "colorbar": {
             "outlinewidth": 0,
             "ticks": ""
            },
            "colorscale": [
             [
              0,
              "#0d0887"
             ],
             [
              0.1111111111111111,
              "#46039f"
             ],
             [
              0.2222222222222222,
              "#7201a8"
             ],
             [
              0.3333333333333333,
              "#9c179e"
             ],
             [
              0.4444444444444444,
              "#bd3786"
             ],
             [
              0.5555555555555556,
              "#d8576b"
             ],
             [
              0.6666666666666666,
              "#ed7953"
             ],
             [
              0.7777777777777778,
              "#fb9f3a"
             ],
             [
              0.8888888888888888,
              "#fdca26"
             ],
             [
              1,
              "#f0f921"
             ]
            ],
            "type": "histogram2dcontour"
           }
          ],
          "mesh3d": [
           {
            "colorbar": {
             "outlinewidth": 0,
             "ticks": ""
            },
            "type": "mesh3d"
           }
          ],
          "parcoords": [
           {
            "line": {
             "colorbar": {
              "outlinewidth": 0,
              "ticks": ""
             }
            },
            "type": "parcoords"
           }
          ],
          "pie": [
           {
            "automargin": true,
            "type": "pie"
           }
          ],
          "scatter": [
           {
            "fillpattern": {
             "fillmode": "overlay",
             "size": 10,
             "solidity": 0.2
            },
            "type": "scatter"
           }
          ],
          "scatter3d": [
           {
            "line": {
             "colorbar": {
              "outlinewidth": 0,
              "ticks": ""
             }
            },
            "marker": {
             "colorbar": {
              "outlinewidth": 0,
              "ticks": ""
             }
            },
            "type": "scatter3d"
           }
          ],
          "scattercarpet": [
           {
            "marker": {
             "colorbar": {
              "outlinewidth": 0,
              "ticks": ""
             }
            },
            "type": "scattercarpet"
           }
          ],
          "scattergeo": [
           {
            "marker": {
             "colorbar": {
              "outlinewidth": 0,
              "ticks": ""
             }
            },
            "type": "scattergeo"
           }
          ],
          "scattergl": [
           {
            "marker": {
             "colorbar": {
              "outlinewidth": 0,
              "ticks": ""
             }
            },
            "type": "scattergl"
           }
          ],
          "scattermapbox": [
           {
            "marker": {
             "colorbar": {
              "outlinewidth": 0,
              "ticks": ""
             }
            },
            "type": "scattermapbox"
           }
          ],
          "scatterpolar": [
           {
            "marker": {
             "colorbar": {
              "outlinewidth": 0,
              "ticks": ""
             }
            },
            "type": "scatterpolar"
           }
          ],
          "scatterpolargl": [
           {
            "marker": {
             "colorbar": {
              "outlinewidth": 0,
              "ticks": ""
             }
            },
            "type": "scatterpolargl"
           }
          ],
          "scatterternary": [
           {
            "marker": {
             "colorbar": {
              "outlinewidth": 0,
              "ticks": ""
             }
            },
            "type": "scatterternary"
           }
          ],
          "surface": [
           {
            "colorbar": {
             "outlinewidth": 0,
             "ticks": ""
            },
            "colorscale": [
             [
              0,
              "#0d0887"
             ],
             [
              0.1111111111111111,
              "#46039f"
             ],
             [
              0.2222222222222222,
              "#7201a8"
             ],
             [
              0.3333333333333333,
              "#9c179e"
             ],
             [
              0.4444444444444444,
              "#bd3786"
             ],
             [
              0.5555555555555556,
              "#d8576b"
             ],
             [
              0.6666666666666666,
              "#ed7953"
             ],
             [
              0.7777777777777778,
              "#fb9f3a"
             ],
             [
              0.8888888888888888,
              "#fdca26"
             ],
             [
              1,
              "#f0f921"
             ]
            ],
            "type": "surface"
           }
          ],
          "table": [
           {
            "cells": {
             "fill": {
              "color": "#EBF0F8"
             },
             "line": {
              "color": "white"
             }
            },
            "header": {
             "fill": {
              "color": "#C8D4E3"
             },
             "line": {
              "color": "white"
             }
            },
            "type": "table"
           }
          ]
         },
         "layout": {
          "annotationdefaults": {
           "arrowcolor": "#2a3f5f",
           "arrowhead": 0,
           "arrowwidth": 1
          },
          "autotypenumbers": "strict",
          "coloraxis": {
           "colorbar": {
            "outlinewidth": 0,
            "ticks": ""
           }
          },
          "colorscale": {
           "diverging": [
            [
             0,
             "#8e0152"
            ],
            [
             0.1,
             "#c51b7d"
            ],
            [
             0.2,
             "#de77ae"
            ],
            [
             0.3,
             "#f1b6da"
            ],
            [
             0.4,
             "#fde0ef"
            ],
            [
             0.5,
             "#f7f7f7"
            ],
            [
             0.6,
             "#e6f5d0"
            ],
            [
             0.7,
             "#b8e186"
            ],
            [
             0.8,
             "#7fbc41"
            ],
            [
             0.9,
             "#4d9221"
            ],
            [
             1,
             "#276419"
            ]
           ],
           "sequential": [
            [
             0,
             "#0d0887"
            ],
            [
             0.1111111111111111,
             "#46039f"
            ],
            [
             0.2222222222222222,
             "#7201a8"
            ],
            [
             0.3333333333333333,
             "#9c179e"
            ],
            [
             0.4444444444444444,
             "#bd3786"
            ],
            [
             0.5555555555555556,
             "#d8576b"
            ],
            [
             0.6666666666666666,
             "#ed7953"
            ],
            [
             0.7777777777777778,
             "#fb9f3a"
            ],
            [
             0.8888888888888888,
             "#fdca26"
            ],
            [
             1,
             "#f0f921"
            ]
           ],
           "sequentialminus": [
            [
             0,
             "#0d0887"
            ],
            [
             0.1111111111111111,
             "#46039f"
            ],
            [
             0.2222222222222222,
             "#7201a8"
            ],
            [
             0.3333333333333333,
             "#9c179e"
            ],
            [
             0.4444444444444444,
             "#bd3786"
            ],
            [
             0.5555555555555556,
             "#d8576b"
            ],
            [
             0.6666666666666666,
             "#ed7953"
            ],
            [
             0.7777777777777778,
             "#fb9f3a"
            ],
            [
             0.8888888888888888,
             "#fdca26"
            ],
            [
             1,
             "#f0f921"
            ]
           ]
          },
          "colorway": [
           "#636efa",
           "#EF553B",
           "#00cc96",
           "#ab63fa",
           "#FFA15A",
           "#19d3f3",
           "#FF6692",
           "#B6E880",
           "#FF97FF",
           "#FECB52"
          ],
          "font": {
           "color": "#2a3f5f"
          },
          "geo": {
           "bgcolor": "white",
           "lakecolor": "white",
           "landcolor": "#E5ECF6",
           "showlakes": true,
           "showland": true,
           "subunitcolor": "white"
          },
          "hoverlabel": {
           "align": "left"
          },
          "hovermode": "closest",
          "mapbox": {
           "style": "light"
          },
          "paper_bgcolor": "white",
          "plot_bgcolor": "#E5ECF6",
          "polar": {
           "angularaxis": {
            "gridcolor": "white",
            "linecolor": "white",
            "ticks": ""
           },
           "bgcolor": "#E5ECF6",
           "radialaxis": {
            "gridcolor": "white",
            "linecolor": "white",
            "ticks": ""
           }
          },
          "scene": {
           "xaxis": {
            "backgroundcolor": "#E5ECF6",
            "gridcolor": "white",
            "gridwidth": 2,
            "linecolor": "white",
            "showbackground": true,
            "ticks": "",
            "zerolinecolor": "white"
           },
           "yaxis": {
            "backgroundcolor": "#E5ECF6",
            "gridcolor": "white",
            "gridwidth": 2,
            "linecolor": "white",
            "showbackground": true,
            "ticks": "",
            "zerolinecolor": "white"
           },
           "zaxis": {
            "backgroundcolor": "#E5ECF6",
            "gridcolor": "white",
            "gridwidth": 2,
            "linecolor": "white",
            "showbackground": true,
            "ticks": "",
            "zerolinecolor": "white"
           }
          },
          "shapedefaults": {
           "line": {
            "color": "#2a3f5f"
           }
          },
          "ternary": {
           "aaxis": {
            "gridcolor": "white",
            "linecolor": "white",
            "ticks": ""
           },
           "baxis": {
            "gridcolor": "white",
            "linecolor": "white",
            "ticks": ""
           },
           "bgcolor": "#E5ECF6",
           "caxis": {
            "gridcolor": "white",
            "linecolor": "white",
            "ticks": ""
           }
          },
          "title": {
           "x": 0.05
          },
          "xaxis": {
           "automargin": true,
           "gridcolor": "white",
           "linecolor": "white",
           "ticks": "",
           "title": {
            "standoff": 15
           },
           "zerolinecolor": "white",
           "zerolinewidth": 2
          },
          "yaxis": {
           "automargin": true,
           "gridcolor": "white",
           "linecolor": "white",
           "ticks": "",
           "title": {
            "standoff": 15
           },
           "zerolinecolor": "white",
           "zerolinewidth": 2
          }
         }
        },
        "xaxis": {
         "anchor": "y",
         "domain": [
          0,
          1
         ],
         "title": {
          "text": "index"
         }
        },
        "yaxis": {
         "anchor": "x",
         "domain": [
          0,
          1
         ],
         "title": {
          "text": "value"
         }
        }
       }
      }
     },
     "metadata": {},
     "output_type": "display_data"
    }
   ],
   "source": [
    "dataset.X_oot['diff'] = dataset.X_oot['next_close_price'] - dataset.X_oot['close_price']\n",
    "dataset.X_oot['pred'] = pred\n",
    "print( sum(dataset.X_oot['diff'][dataset.X_oot['pred'] ==1]) - sum(pred)*0.00006)\n",
    "final_pred =dataset.X_oot['diff'][dataset.X_oot['pred'] ==1] -0.00006\n",
    "px.line(final_pred.cumsum(axis = 0))"
   ]
  },
  {
   "cell_type": "code",
   "execution_count": 17,
   "metadata": {},
   "outputs": [
    {
     "data": {
      "image/png": "[encoded data removed]",
      "text/plain": [
       "<Figure size 640x480 with 1 Axes>"
      ]
     },
     "metadata": {},
     "output_type": "display_data"
    }
   ],
   "source": [
    "from sklearn.metrics import PrecisionRecallDisplay\n",
    "\n",
    "display = PrecisionRecallDisplay.from_estimator(\n",
    "    clf, dataset.X_oot[model_features], dataset.y_oot, name=\"LinearSVC\", plot_chance_level=True\n",
    ")\n",
    "_ = display.ax_.set_title(\"2-class Precision-Recall curve\")"
   ]
  },
  {
   "cell_type": "code",
   "execution_count": 18,
   "metadata": {},
   "outputs": [
    {
     "data": {
      "image/png": "[encoded data removed]",
      "text/plain": [
       "<Figure size 640x480 with 1 Axes>"
      ]
     },
     "metadata": {},
     "output_type": "display_data"
    }
   ],
   "source": [
    "disp = CalibrationDisplay.from_estimator(clf, dataset.X_test[model_features], dataset.y_test)"
   ]
  },
  {
   "cell_type": "code",
   "execution_count": 19,
   "metadata": {},
   "outputs": [
    {
     "data": {
      "image/png": "[encoded data removed]",
      "text/plain": [
       "<Figure size 640x480 with 1 Axes>"
      ]
     },
     "metadata": {},
     "output_type": "display_data"
    }
   ],
   "source": [
    "from sklearn.calibration import CalibratedClassifierCV\n",
    "\n",
    "calibrated_clf = CalibratedClassifierCV(clf, cv='prefit')\n",
    "calibrated_clf.fit(dataset.X_train[model_features], dataset.y_train)\n",
    "disp = CalibrationDisplay.from_estimator(calibrated_clf, dataset.X_test[model_features], dataset.y_test)"
   ]
  },
  {
   "cell_type": "code",
   "execution_count": null,
   "metadata": {},
   "outputs": [],
   "source": []
  },
  {
   "cell_type": "code",
   "execution_count": 20,
   "metadata": {},
   "outputs": [
    {
     "data": {
      "text/plain": [
       "<sklearn.metrics._plot.confusion_matrix.ConfusionMatrixDisplay at 0x25f51299190>"
      ]
     },
     "execution_count": 20,
     "metadata": {},
     "output_type": "execute_result"
    },
    {
     "data": {
      "image/png": "[encoded data removed]",
      "text/plain": [
       "<Figure size 640x480 with 2 Axes>"
      ]
     },
     "metadata": {},
     "output_type": "display_data"
    }
   ],
   "source": [
    "cm = confusion_matrix(dataset.y_test, calibrated_clf.predict(dataset.X_test[model_features]))\n",
    "ConfusionMatrixDisplay(cm).plot()"
   ]
  },
  {
   "cell_type": "code",
   "execution_count": 21,
   "metadata": {},
   "outputs": [],
   "source": [
    "pred = [1 if d > 0.95 else 0 for d in calibrated_clf.predict_proba(dataset.X_oot[model_features]).T[1]]"
   ]
  },
  {
   "cell_type": "code",
   "execution_count": 22,
   "metadata": {},
   "outputs": [
    {
     "data": {
      "text/plain": [
       "<Axes: >"
      ]
     },
     "execution_count": 22,
     "metadata": {},
     "output_type": "execute_result"
    },
    {
     "data": {
      "image/png": "[encoded data removed]",
      "text/plain": [
       "<Figure size 640x480 with 1 Axes>"
      ]
     },
     "metadata": {},
     "output_type": "display_data"
    }
   ],
   "source": [
    "pd.Series(calibrated_clf.predict_proba(dataset.X_test[model_features]).T[1]).hist(bins = 20)"
   ]
  },
  {
   "cell_type": "code",
   "execution_count": 23,
   "metadata": {},
   "outputs": [],
   "source": [
    "from sklearn.calibration import calibration_curve"
   ]
  },
  {
   "cell_type": "code",
   "execution_count": 24,
   "metadata": {},
   "outputs": [],
   "source": [
    "from sklearn.metrics import log_loss"
   ]
  },
  {
   "cell_type": "code",
   "execution_count": 25,
   "metadata": {},
   "outputs": [
    {
     "data": {
      "text/plain": [
       "(array([0., 1., 1.]), array([0.00329139, 0.71444598, 0.99508433]))"
      ]
     },
     "execution_count": 25,
     "metadata": {},
     "output_type": "execute_result"
    }
   ],
   "source": [
    "calibration_curve(dataset.y_test, calibrated_clf.predict_proba(dataset.X_test[model_features]).T[1])"
   ]
  },
  {
   "cell_type": "code",
   "execution_count": 26,
   "metadata": {},
   "outputs": [
    {
     "data": {
      "text/plain": [
       "0.016339204799105986"
      ]
     },
     "execution_count": 26,
     "metadata": {},
     "output_type": "execute_result"
    }
   ],
   "source": [
    "log_loss(dataset.y_test, clf.predict_proba(dataset.X_test[model_features]).T[1])"
   ]
  },
  {
   "cell_type": "code",
   "execution_count": 35,
   "metadata": {},
   "outputs": [],
   "source": [
    "test_DF = dataset.X_train[model_features].iloc[0]"
   ]
  },
  {
   "cell_type": "code",
   "execution_count": 51,
   "metadata": {},
   "outputs": [
    {
     "data": {
      "text/plain": [
       "rsi            54.900000\n",
       "mfi            64.265029\n",
       "regrs           0.191601\n",
       "cci            52.631579\n",
       "rsi_norm_0      4.799213\n",
       "                 ...    \n",
       "cci_norm_5   -382.575141\n",
       "cci_norm_6   -404.545123\n",
       "cci_norm_7   -429.227997\n",
       "cci_norm_8   -463.829360\n",
       "cci_norm_9   -462.755074\n",
       "Name: 1544, Length: 74, dtype: float64"
      ]
     },
     "execution_count": 51,
     "metadata": {},
     "output_type": "execute_result"
    }
   ],
   "source": [
    "test_DF"
   ]
  },
  {
   "cell_type": "code",
   "execution_count": 48,
   "metadata": {},
   "outputs": [],
   "source": [
    "test_DF.to_json(\"testdf.json\")"
   ]
  },
  {
   "cell_type": "code",
   "execution_count": 52,
   "metadata": {},
   "outputs": [
    {
     "data": {
      "text/html": [
       "<div>\n",
       "<style scoped>\n",
       "    .dataframe tbody tr th:only-of-type {\n",
       "        vertical-align: middle;\n",
       "    }\n",
       "\n",
       "    .dataframe tbody tr th {\n",
       "        vertical-align: top;\n",
       "    }\n",
       "\n",
       "    .dataframe thead th {\n",
       "        text-align: right;\n",
       "    }\n",
       "</style>\n",
       "<table border=\"1\" class=\"dataframe\">\n",
       "  <thead>\n",
       "    <tr style=\"text-align: right;\">\n",
       "      <th></th>\n",
       "      <th>rsi</th>\n",
       "      <th>mfi</th>\n",
       "      <th>regrs</th>\n",
       "      <th>cci</th>\n",
       "      <th>rsi_norm_0</th>\n",
       "      <th>rsi_norm_1</th>\n",
       "      <th>rsi_norm_2</th>\n",
       "      <th>rsi_norm_3</th>\n",
       "      <th>rsi_norm_4</th>\n",
       "      <th>rsi_norm_5</th>\n",
       "      <th>...</th>\n",
       "      <th>cci_norm_0</th>\n",
       "      <th>cci_norm_1</th>\n",
       "      <th>cci_norm_2</th>\n",
       "      <th>cci_norm_3</th>\n",
       "      <th>cci_norm_4</th>\n",
       "      <th>cci_norm_5</th>\n",
       "      <th>cci_norm_6</th>\n",
       "      <th>cci_norm_7</th>\n",
       "      <th>cci_norm_8</th>\n",
       "      <th>cci_norm_9</th>\n",
       "    </tr>\n",
       "  </thead>\n",
       "  <tbody>\n",
       "    <tr>\n",
       "      <th>0</th>\n",
       "      <td>54.9</td>\n",
       "      <td>64.265029</td>\n",
       "      <td>0.191601</td>\n",
       "      <td>52.631579</td>\n",
       "      <td>4.799213</td>\n",
       "      <td>5.925984</td>\n",
       "      <td>7.13622</td>\n",
       "      <td>8.346457</td>\n",
       "      <td>9.640157</td>\n",
       "      <td>11.017323</td>\n",
       "      <td>...</td>\n",
       "      <td>-277.79785</td>\n",
       "      <td>-300.907387</td>\n",
       "      <td>-321.325293</td>\n",
       "      <td>-340.984862</td>\n",
       "      <td>-361.241503</td>\n",
       "      <td>-382.575141</td>\n",
       "      <td>-404.545123</td>\n",
       "      <td>-429.227997</td>\n",
       "      <td>-463.82936</td>\n",
       "      <td>-462.755074</td>\n",
       "    </tr>\n",
       "  </tbody>\n",
       "</table>\n",
       "<p>1 rows × 74 columns</p>\n",
       "</div>"
      ],
      "text/plain": [
       "    rsi        mfi     regrs        cci  rsi_norm_0  rsi_norm_1  rsi_norm_2  \\\n",
       "0  54.9  64.265029  0.191601  52.631579    4.799213    5.925984     7.13622   \n",
       "\n",
       "   rsi_norm_3  rsi_norm_4  rsi_norm_5  ...  cci_norm_0  cci_norm_1  \\\n",
       "0    8.346457    9.640157   11.017323  ...  -277.79785 -300.907387   \n",
       "\n",
       "   cci_norm_2  cci_norm_3  cci_norm_4  cci_norm_5  cci_norm_6  cci_norm_7  \\\n",
       "0 -321.325293 -340.984862 -361.241503 -382.575141 -404.545123 -429.227997   \n",
       "\n",
       "   cci_norm_8  cci_norm_9  \n",
       "0  -463.82936 -462.755074  \n",
       "\n",
       "[1 rows x 74 columns]"
      ]
     },
     "execution_count": 52,
     "metadata": {},
     "output_type": "execute_result"
    }
   ],
   "source": [
    " pd.read_json(\"testdf.json\", orient = 'index').T"
   ]
  },
  {
   "cell_type": "code",
   "execution_count": 55,
   "metadata": {},
   "outputs": [],
   "source": [
    "import json\n",
    "with open('testdf.json', 'r') as file:\n",
    "            input_data = json.load(file)"
   ]
  },
  {
   "cell_type": "code",
   "execution_count": 56,
   "metadata": {},
   "outputs": [
    {
     "data": {
      "text/plain": [
       "{'rsi': 54.9,\n",
       " 'mfi': 64.265029,\n",
       " 'regrs': 0.191601,\n",
       " 'cci': 52.631579,\n",
       " 'rsi_norm_0': 4.7992125984,\n",
       " 'rsi_norm_1': 5.925984252,\n",
       " 'rsi_norm_2': 7.1362204724,\n",
       " 'rsi_norm_3': 8.3464566929,\n",
       " 'rsi_norm_4': 9.6401574803,\n",
       " 'rsi_norm_5': 11.0173228346,\n",
       " 'rsi_norm_6': 12.4362204724,\n",
       " 'rsi_norm_7': 13.8968503937,\n",
       " 'rsi_norm_8': 17.068503937,\n",
       " 'rsi_norm_9': 16.442519685,\n",
       " 'mfi_norm_0': 3.3234477909,\n",
       " 'mfi_norm_1': 4.4254354218,\n",
       " 'mfi_norm_2': 5.5261688512,\n",
       " 'mfi_norm_3': 6.6265184109,\n",
       " 'mfi_norm_4': 7.727353503,\n",
       " 'mfi_norm_5': 8.8295439944,\n",
       " 'mfi_norm_6': 9.9339634712,\n",
       " 'mfi_norm_7': 11.0414914089,\n",
       " 'mfi_norm_8': 12.1530150313,\n",
       " 'mfi_norm_9': 12.151248952,\n",
       " 'williams_0': -100.0,\n",
       " 'williams_1': -100.0,\n",
       " 'williams_2': -100.0,\n",
       " 'williams_3': -85.714286,\n",
       " 'williams_4': -62.5,\n",
       " 'williams_5': -44.444444,\n",
       " 'williams_6': -30.0,\n",
       " 'williams_7': -18.181818,\n",
       " 'williams_8': 0.0,\n",
       " 'williams_9': 0.0,\n",
       " 'tv_norm_0': 0.0,\n",
       " 'tv_norm_1': 0.0,\n",
       " 'tv_norm_2': 0.0,\n",
       " 'tv_norm_3': 0.0,\n",
       " 'tv_norm_4': 0.0,\n",
       " 'tv_norm_5': 0.0,\n",
       " 'tv_norm_6': 0.0,\n",
       " 'tv_norm_7': 0.0,\n",
       " 'tv_norm_8': 0.0,\n",
       " 'tv_norm_9': 0.0,\n",
       " 'regrs_norm_0': 0.000423781,\n",
       " 'regrs_norm_1': 0.0002784143,\n",
       " 'regrs_norm_2': 9.28284e-05,\n",
       " 'regrs_norm_3': 0.0,\n",
       " 'regrs_norm_4': 0.0001157601,\n",
       " 'regrs_norm_5': 0.0003115742,\n",
       " 'regrs_norm_6': 0.0004581106,\n",
       " 'regrs_norm_7': 0.0005407768,\n",
       " 'regrs_norm_8': 0.0005789694,\n",
       " 'regrs_norm_9': 0.0005807712,\n",
       " 'sma_norm_0': 0.0257542829,\n",
       " 'sma_norm_1': 0.0264500549,\n",
       " 'sma_norm_2': 0.0268681028,\n",
       " 'sma_norm_3': 0.0270064776,\n",
       " 'sma_norm_4': 0.0268681028,\n",
       " 'sma_norm_5': 0.0264500549,\n",
       " 'sma_norm_6': 0.0257542829,\n",
       " 'sma_norm_7': 0.0247798123,\n",
       " 'sma_norm_8': 0.0235266432,\n",
       " 'sma_norm_9': 0.0218564006,\n",
       " 'cci_norm_0': -277.7978496027,\n",
       " 'cci_norm_1': -300.9073868566,\n",
       " 'cci_norm_2': -321.3252926503,\n",
       " 'cci_norm_3': -340.9848621908,\n",
       " 'cci_norm_4': -361.2415033263,\n",
       " 'cci_norm_5': -382.5751405073,\n",
       " 'cci_norm_6': -404.545122839,\n",
       " 'cci_norm_7': -429.2279966814,\n",
       " 'cci_norm_8': -463.8293604945,\n",
       " 'cci_norm_9': -462.7550738213}"
      ]
     },
     "execution_count": 56,
     "metadata": {},
     "output_type": "execute_result"
    }
   ],
   "source": [
    "input_data"
   ]
  },
  {
   "cell_type": "code",
   "execution_count": 59,
   "metadata": {},
   "outputs": [
    {
     "data": {
      "text/html": [
       "<div>\n",
       "<style scoped>\n",
       "    .dataframe tbody tr th:only-of-type {\n",
       "        vertical-align: middle;\n",
       "    }\n",
       "\n",
       "    .dataframe tbody tr th {\n",
       "        vertical-align: top;\n",
       "    }\n",
       "\n",
       "    .dataframe thead th {\n",
       "        text-align: right;\n",
       "    }\n",
       "</style>\n",
       "<table border=\"1\" class=\"dataframe\">\n",
       "  <thead>\n",
       "    <tr style=\"text-align: right;\">\n",
       "      <th></th>\n",
       "      <th>rsi</th>\n",
       "      <th>mfi</th>\n",
       "      <th>regrs</th>\n",
       "      <th>cci</th>\n",
       "      <th>rsi_norm_0</th>\n",
       "      <th>rsi_norm_1</th>\n",
       "      <th>rsi_norm_2</th>\n",
       "      <th>rsi_norm_3</th>\n",
       "      <th>rsi_norm_4</th>\n",
       "      <th>rsi_norm_5</th>\n",
       "      <th>...</th>\n",
       "      <th>cci_norm_0</th>\n",
       "      <th>cci_norm_1</th>\n",
       "      <th>cci_norm_2</th>\n",
       "      <th>cci_norm_3</th>\n",
       "      <th>cci_norm_4</th>\n",
       "      <th>cci_norm_5</th>\n",
       "      <th>cci_norm_6</th>\n",
       "      <th>cci_norm_7</th>\n",
       "      <th>cci_norm_8</th>\n",
       "      <th>cci_norm_9</th>\n",
       "    </tr>\n",
       "  </thead>\n",
       "  <tbody>\n",
       "    <tr>\n",
       "      <th>0</th>\n",
       "      <td>54.9</td>\n",
       "      <td>64.265029</td>\n",
       "      <td>0.191601</td>\n",
       "      <td>52.631579</td>\n",
       "      <td>4.799213</td>\n",
       "      <td>5.925984</td>\n",
       "      <td>7.13622</td>\n",
       "      <td>8.346457</td>\n",
       "      <td>9.640157</td>\n",
       "      <td>11.017323</td>\n",
       "      <td>...</td>\n",
       "      <td>-277.79785</td>\n",
       "      <td>-300.907387</td>\n",
       "      <td>-321.325293</td>\n",
       "      <td>-340.984862</td>\n",
       "      <td>-361.241503</td>\n",
       "      <td>-382.575141</td>\n",
       "      <td>-404.545123</td>\n",
       "      <td>-429.227997</td>\n",
       "      <td>-463.82936</td>\n",
       "      <td>-462.755074</td>\n",
       "    </tr>\n",
       "  </tbody>\n",
       "</table>\n",
       "<p>1 rows × 74 columns</p>\n",
       "</div>"
      ],
      "text/plain": [
       "    rsi        mfi     regrs        cci  rsi_norm_0  rsi_norm_1  rsi_norm_2  \\\n",
       "0  54.9  64.265029  0.191601  52.631579    4.799213    5.925984     7.13622   \n",
       "\n",
       "   rsi_norm_3  rsi_norm_4  rsi_norm_5  ...  cci_norm_0  cci_norm_1  \\\n",
       "0    8.346457    9.640157   11.017323  ...  -277.79785 -300.907387   \n",
       "\n",
       "   cci_norm_2  cci_norm_3  cci_norm_4  cci_norm_5  cci_norm_6  cci_norm_7  \\\n",
       "0 -321.325293 -340.984862 -361.241503 -382.575141 -404.545123 -429.227997   \n",
       "\n",
       "   cci_norm_8  cci_norm_9  \n",
       "0  -463.82936 -462.755074  \n",
       "\n",
       "[1 rows x 74 columns]"
      ]
     },
     "execution_count": 59,
     "metadata": {},
     "output_type": "execute_result"
    }
   ],
   "source": [
    "pd.DataFrame.from_dict(input_data, orient=\"index\").T"
   ]
  },
  {
   "cell_type": "code",
   "execution_count": 61,
   "metadata": {},
   "outputs": [
    {
     "data": {
      "text/plain": [
       "['model.pkl']"
      ]
     },
     "execution_count": 61,
     "metadata": {},
     "output_type": "execute_result"
    }
   ],
   "source": [
    "import joblib\n",
    "\n",
    "\n",
    "joblib.dump(clf, 'model.pkl')"
   ]
  },
  {
   "cell_type": "code",
   "execution_count": 63,
   "metadata": {},
   "outputs": [
    {
     "data": {
      "text/plain": [
       "74"
      ]
     },
     "execution_count": 63,
     "metadata": {},
     "output_type": "execute_result"
    }
   ],
   "source": [
    "len(clf.feature_names_in_)"
   ]
  },
  {
   "cell_type": "code",
   "execution_count": null,
   "metadata": {},
   "outputs": [],
   "source": []
  }
 ],
 "metadata": {
  "kernelspec": {
   "display_name": "trading",
   "language": "python",
   "name": "python3"
  },
  "language_info": {
   "codemirror_mode": {
    "name": "ipython",
    "version": 3
   },
   "file_extension": ".py",
   "mimetype": "text/x-python",
   "name": "python",
   "nbconvert_exporter": "python",
   "pygments_lexer": "ipython3",
   "version": "3.9.17"
  },
  "orig_nbformat": 4
 },
 "nbformat": 4,
 "nbformat_minor": 2
}
