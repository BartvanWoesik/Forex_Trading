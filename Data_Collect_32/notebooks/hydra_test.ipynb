{
 "cells": [
  {
   "cell_type": "code",
   "execution_count": 1,
   "metadata": {},
   "outputs": [],
   "source": [
    "from hydra import compose, initialize\n",
    "from hydra.utils import instantiate\n",
    "from omegaconf import OmegaConf\n",
    "import hydra"
   ]
  },
  {
   "cell_type": "code",
   "execution_count": 2,
   "metadata": {},
   "outputs": [
    {
     "ename": "AssertionError",
     "evalue": "GlobalHydra is not initialized, use @hydra.main() or call one of the hydra initialization methods first",
     "output_type": "error",
     "traceback": [
      "\u001b[1;31m---------------------------------------------------------------------------\u001b[0m",
      "\u001b[1;31mAssertionError\u001b[0m                            Traceback (most recent call last)",
      "Cell \u001b[1;32mIn[2], line 1\u001b[0m\n\u001b[1;32m----> 1\u001b[0m cfg \u001b[39m=\u001b[39m compose(config_name\u001b[39m=\u001b[39;49m\u001b[39m'\u001b[39;49m\u001b[39mconfig.yaml\u001b[39;49m\u001b[39m'\u001b[39;49m)\n",
      "File \u001b[1;32mc:\\Users\\bartw\\.conda\\envs\\trading\\lib\\site-packages\\hydra\\compose.py:32\u001b[0m, in \u001b[0;36mcompose\u001b[1;34m(config_name, overrides, return_hydra_config, strict)\u001b[0m\n\u001b[0;32m     29\u001b[0m \u001b[39mif\u001b[39;00m overrides \u001b[39mis\u001b[39;00m \u001b[39mNone\u001b[39;00m:\n\u001b[0;32m     30\u001b[0m     overrides \u001b[39m=\u001b[39m []\n\u001b[1;32m---> 32\u001b[0m \u001b[39massert\u001b[39;00m (\n\u001b[0;32m     33\u001b[0m     GlobalHydra()\u001b[39m.\u001b[39mis_initialized()\n\u001b[0;32m     34\u001b[0m ), \u001b[39m\"\u001b[39m\u001b[39mGlobalHydra is not initialized, use @hydra.main() or call one of the hydra initialization methods first\u001b[39m\u001b[39m\"\u001b[39m\n\u001b[0;32m     36\u001b[0m gh \u001b[39m=\u001b[39m GlobalHydra\u001b[39m.\u001b[39minstance()\n\u001b[0;32m     37\u001b[0m \u001b[39massert\u001b[39;00m gh\u001b[39m.\u001b[39mhydra \u001b[39mis\u001b[39;00m \u001b[39mnot\u001b[39;00m \u001b[39mNone\u001b[39;00m\n",
      "\u001b[1;31mAssertionError\u001b[0m: GlobalHydra is not initialized, use @hydra.main() or call one of the hydra initialization methods first"
     ]
    }
   ],
   "source": [
    "cfg = compose(config_name='config.yaml')"
   ]
  },
  {
   "cell_type": "code",
   "execution_count": null,
   "metadata": {},
   "outputs": [],
   "source": [
    "data_pipeline = instantiate(cfg.data_pipeline)"
   ]
  },
  {
   "cell_type": "code",
   "execution_count": null,
   "metadata": {},
   "outputs": [
    {
     "data": {
      "text/plain": [
       "['Data_Collect_32.process_data.data_cleaning.round_label']"
      ]
     },
     "execution_count": 12,
     "metadata": {},
     "output_type": "execute_result"
    },
    {
     "ename": "",
     "evalue": "",
     "output_type": "error",
     "traceback": [
      "\u001b[1;31mThe Kernel crashed while executing code in the the current cell or a previous cell. Please review the code in the cell(s) to identify a possible cause of the failure. Click <a href='https://aka.ms/vscodeJupyterKernelCrash'>here</a> for more info. View Jupyter <a href='command:jupyter.viewOutput'>log</a> for further details."
     ]
    }
   ],
   "source": [
    "data_pipeline.steps"
   ]
  },
  {
   "cell_type": "code",
   "execution_count": null,
   "metadata": {},
   "outputs": [],
   "source": []
  }
 ],
 "metadata": {
  "kernelspec": {
   "display_name": "trading",
   "language": "python",
   "name": "python3"
  },
  "language_info": {
   "codemirror_mode": {
    "name": "ipython",
    "version": 3
   },
   "file_extension": ".py",
   "mimetype": "text/x-python",
   "name": "python",
   "nbconvert_exporter": "python",
   "pygments_lexer": "ipython3",
   "version": "3.9.17"
  },
  "orig_nbformat": 4
 },
 "nbformat": 4,
 "nbformat_minor": 2
}
