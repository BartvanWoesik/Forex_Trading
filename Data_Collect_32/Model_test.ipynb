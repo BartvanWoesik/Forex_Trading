{
 "cells": [
  {
   "cell_type": "code",
   "execution_count": null,
   "metadata": {},
   "outputs": [],
   "source": [
    "import mlflow\n",
    "import joblib\n",
    "from hydra import compose, initialize\n",
    "from hydra.utils import instantiate\n",
    "import pandas as pd\n",
    "from ProcessData.dataset import Dataset\n",
    "from ProcessData.data_splitter import data_splitter\n",
    "from Evaluate.pips import get_pips_margin\n",
    "from sklearn.ensemble import HistGradientBoostingClassifier\n",
    "from sklearn.calibration import CalibratedClassifierCV\n",
    "\n",
    "from sklearn.calibration import calibration_curve\n",
    "from sklearn.utils import estimator_html_repr\n",
    "from sklearn.metrics import brier_score_loss\n",
    "\n",
    "from Model.SklearnPipeline import CustomPipeline\n",
    "\n",
    "from my_logger.custom_logger import  logger\n"
   ]
  },
  {
   "cell_type": "code",
   "execution_count": null,
   "metadata": {},
   "outputs": [],
   "source": [
    "initialize(config_path=\"../conf/\", version_base=None)\n",
    "cfg = compose(config_name=\"config.yaml\")"
   ]
  },
  {
   "cell_type": "code",
   "execution_count": null,
   "metadata": {},
   "outputs": [],
   "source": [
    "\n",
    "data_pipeline = instantiate(cfg.data_pipeline)\n",
    "df = pd.read_csv(cfg.Data_Source)\n",
    "df = data_pipeline.apply(df.copy())\n",
    "dataset = Dataset(data=df, data_splitter=data_splitter)"
   ]
  },
  {
   "cell_type": "code",
   "execution_count": null,
   "metadata": {},
   "outputs": [],
   "source": []
  }
 ],
 "metadata": {
  "kernelspec": {
   "display_name": "trading",
   "language": "python",
   "name": "python3"
  },
  "language_info": {
   "name": "python",
   "version": "3.11.5"
  }
 },
 "nbformat": 4,
 "nbformat_minor": 2
}
