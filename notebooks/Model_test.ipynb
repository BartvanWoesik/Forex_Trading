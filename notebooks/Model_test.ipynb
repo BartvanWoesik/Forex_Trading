{
 "cells": [
  {
   "cell_type": "code",
   "execution_count": null,
   "metadata": {},
   "outputs": [],
   "source": [
    "import mlflow\n",
    "import joblib\n",
    "import pickle\n",
    "import os\n",
    "from hydra import compose, initialize\n",
    "from hydra.utils import instantiate\n",
    "import pandas as pd\n",
    "from ProcessData.dataset import Dataset\n",
    "from ProcessData.data_splitter import data_splitter\n",
    "from Evaluate.pips import get_pips_margin\n",
    "from sklearn.ensemble import HistGradientBoostingClassifier\n",
    "from sklearn.calibration import CalibratedClassifierCV\n",
    "\n",
    "from sklearn.calibration import calibration_curve\n",
    "from sklearn.utils import estimator_html_repr\n",
    "from sklearn.metrics import brier_score_loss\n",
    "\n",
    "from Model.SklearnPipeline import CustomPipeline\n",
    "\n",
    "from my_logger.custom_logger import  logger\n",
    "\n",
    "import numpy as np\n",
    "import matplotlib.pyplot as plt\n",
    "import seaborn as sns\n"
   ]
  },
  {
   "cell_type": "code",
   "execution_count": null,
   "metadata": {},
   "outputs": [],
   "source": [
    "initialize(config_path=\"conf/\", version_base=None)\n",
    "cfg = compose(config_name=\"config.yaml\")"
   ]
  },
  {
   "cell_type": "code",
   "execution_count": null,
   "metadata": {},
   "outputs": [],
   "source": [
    "\n",
    "data_pipeline = instantiate(cfg.data_pipeline)\n",
    "df = pd.read_csv(cfg.Data_Source)\n",
    "df = data_pipeline.apply(df.copy())\n",
    "dataset = Dataset(data=df, data_splitter=data_splitter)"
   ]
  },
  {
   "cell_type": "code",
   "execution_count": null,
   "metadata": {},
   "outputs": [],
   "source": [
    "dataset.X_train[['Datum','next_close_price1', 'close_price1', 'diff']]"
   ]
  },
  {
   "cell_type": "code",
   "execution_count": null,
   "metadata": {},
   "outputs": [],
   "source": [
    "dataset.y_train"
   ]
  },
  {
   "cell_type": "code",
   "execution_count": null,
   "metadata": {},
   "outputs": [],
   "source": [
    "model_name = 'deploy/model.pkl'\n",
    "\n",
    "current_directory = os.path.dirname(os.path.realpath('scoring_script.py'))\n",
    "# Construct the relative path to the model file\n",
    "model_path = os.path.join(current_directory, model_name)\n",
    "logger.info(f'Get model from {model_path}')\n",
    "# Check if the model file exists\n",
    "if not os.path.exists(model_path):\n",
    "    raise FileNotFoundError(f\"Model file '{model_name}' not found in the current directory.\")\n",
    "\n",
    "# Load the model\n",
    "with open (model_path, 'rb') as m:\n",
    "    model = pickle.load(m)\n",
    "print(type(model))"
   ]
  },
  {
   "cell_type": "code",
   "execution_count": null,
   "metadata": {},
   "outputs": [],
   "source": [
    "pred = model.predict_proba(dataset.X_oot)"
   ]
  },
  {
   "cell_type": "code",
   "execution_count": null,
   "metadata": {},
   "outputs": [],
   "source": [
    "pred"
   ]
  },
  {
   "cell_type": "code",
   "execution_count": null,
   "metadata": {},
   "outputs": [],
   "source": [
    "sns.kdeplot(pred[:,1], shade=True)\n",
    "plt.xlabel('Probability')\n",
    "plt.ylabel('Density')\n",
    "plt.title('Density Plot of Predicted Probabilities')\n",
    "plt.show()"
   ]
  },
  {
   "cell_type": "code",
   "execution_count": null,
   "metadata": {},
   "outputs": [],
   "source": [
    "\n",
    "\n",
    "# Assuming you have some predict_proba results stored in a variable called predict_proba_results\n",
    "# Replace this with your actual predict_proba results\n",
    "pred_1 = [x if y > 0.5 else 0 for x, y in zip(pred[:, 1], dataset.y_oot)]\n",
    "pred_1 = [x for x in pred_1 if x != 0]\n",
    "\n",
    "\n",
    "pred_0 = [x if y < 0.5 else 0 for x, y in zip(pred[:, 1], dataset.y_oot)]\n",
    "pred_0 = [x for x in pred_0 if x != 0]\n",
    "\n",
    "# Create a density plot using seaborn\n",
    "sns.kdeplot(pred_0, shade=True)\n",
    "sns.kdeplot(pred_1, shade=True)\n",
    "plt.xlabel('Probability')\n",
    "plt.ylabel('Density')\n",
    "plt.title('Density Plot of Predicted Probabilities')\n",
    "plt.show()\n"
   ]
  },
  {
   "cell_type": "code",
   "execution_count": null,
   "metadata": {},
   "outputs": [],
   "source": []
  }
 ],
 "metadata": {
  "kernelspec": {
   "display_name": "trading",
   "language": "python",
   "name": "python3"
  },
  "language_info": {
   "codemirror_mode": {
    "name": "ipython",
    "version": 3
   },
   "file_extension": ".py",
   "mimetype": "text/x-python",
   "name": "python",
   "nbconvert_exporter": "python",
   "pygments_lexer": "ipython3",
   "version": "3.11.7"
  }
 },
 "nbformat": 4,
 "nbformat_minor": 2
}
