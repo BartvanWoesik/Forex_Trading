{
 "cells": [
  {
   "cell_type": "code",
   "execution_count": null,
   "metadata": {},
   "outputs": [],
   "source": [
    "import os\n",
    "import pickle\n",
    "import pandas as pd\n",
    "\n",
    "def get_model(model_name: str = \"deploy/model.pkl\") -> any:\n",
    "    # Get the current directory of the script\n",
    "    current_directory = \"\"\n",
    "    # Construct the relative path to the model file\n",
    "    model_path = os.path.join(current_directory, model_name)\n",
    "    # Check if the model file exists\n",
    "    if not os.path.exists(model_path):\n",
    "        raise FileNotFoundError(f\"Model file '{model_name}' not found in the current directory.\")\n",
    "    \n",
    "    # Load the model\n",
    "    with open (model_path, 'rb') as m:\n",
    "        model = pickle.load(m)\n",
    "    print(type(model))\n",
    "    return model"
   ]
  },
  {
   "cell_type": "code",
   "execution_count": null,
   "metadata": {},
   "outputs": [],
   "source": [
    "MODEL = get_model()"
   ]
  },
  {
   "cell_type": "code",
   "execution_count": null,
   "metadata": {},
   "outputs": [],
   "source": [
    "with open('deploy/input_data.txt', 'r') as file:\n",
    "    input_data = eval(file.read())\n",
    "\n"
   ]
  },
  {
   "cell_type": "code",
   "execution_count": null,
   "metadata": {},
   "outputs": [],
   "source": [
    "new_data = pd.DataFrame.from_dict(input_data, orient=\"index\").T\n",
    "if 'Datum' in new_data.columns:\n",
    "    # Convert Datum to datetime and other columns to numeric\n",
    "    new_data[\"Datum\"] = pd.to_datetime(new_data[\"Datum\"], dayfirst=True)\n",
    "    columns_to_convert = new_data.columns.difference([\"Datum\"])\n",
    "else:\n",
    "    columns_to_convert = new_data.columns\n",
    "\n",
    "def convert_to_numeric(column):\n",
    "    return pd.to_numeric(column, errors=\"coerce\")\n",
    "\n",
    "new_data[columns_to_convert] = new_data[columns_to_convert].apply(\n",
    "    convert_to_numeric\n",
    ")\n",
    "print(new_data)\n",
    "# Make predictions\n",
    "predictions = MODEL.predict_proba(new_data) \n",
    "\n",
    "# Convert predictions to a list\n",
    "predictions_list = float(predictions[:, 1][0])\n",
    "\n",
    "    "
   ]
  },
  {
   "cell_type": "code",
   "execution_count": null,
   "metadata": {},
   "outputs": [],
   "source": [
    "predictions_list"
   ]
  },
  {
   "cell_type": "code",
   "execution_count": null,
   "metadata": {},
   "outputs": [],
   "source": [
    "predictions"
   ]
  },
  {
   "cell_type": "code",
   "execution_count": null,
   "metadata": {},
   "outputs": [],
   "source": [
    "import os\n",
    "import pickle\n",
    "import pandas as pd\n",
    "import numpy as np\n",
    "import seaborn as sns\n",
    "\n",
    "import matplotlib.pyplot as plt\n",
    "from hydra.utils import instantiate\n",
    "from hydra import compose, initialize\n",
    "\n",
    "from my_logger.custom_logger import  logger\n",
    "from ProcessData.data_splitter import data_splitter\n",
    "from ProcessData.dataset import Dataset\n",
    "\n",
    "initialize(config_path=\"conf/\", version_base=None)\n",
    "cfg = compose(config_name=\"config.yaml\")\n",
    "\n",
    "\n",
    "data_pipeline = instantiate(cfg.data_pipeline)\n",
    "df = pd.read_csv(cfg.Data_Source)\n",
    "df = data_pipeline.apply(df.copy())\n",
    "dataset = Dataset(data=df, data_splitter=data_splitter)"
   ]
  },
  {
   "cell_type": "code",
   "execution_count": null,
   "metadata": {},
   "outputs": [],
   "source": [
    "row = dataset.X.iloc[-100]"
   ]
  },
  {
   "cell_type": "code",
   "execution_count": null,
   "metadata": {},
   "outputs": [],
   "source": [
    "pd.DataFrame(row).T"
   ]
  },
  {
   "cell_type": "code",
   "execution_count": null,
   "metadata": {},
   "outputs": [],
   "source": [
    "MODEL.predict_proba(pd.DataFrame(row).T)"
   ]
  },
  {
   "cell_type": "code",
   "execution_count": null,
   "metadata": {},
   "outputs": [],
   "source": [
    "pd.DataFrame(new_data)"
   ]
  },
  {
   "cell_type": "code",
   "execution_count": null,
   "metadata": {},
   "outputs": [],
   "source": []
  }
 ],
 "metadata": {
  "kernelspec": {
   "display_name": "credit_score",
   "language": "python",
   "name": "python3"
  },
  "language_info": {
   "codemirror_mode": {
    "name": "ipython",
    "version": 3
   },
   "file_extension": ".py",
   "mimetype": "text/x-python",
   "name": "python",
   "nbconvert_exporter": "python",
   "pygments_lexer": "ipython3",
   "version": "3.11.7"
  }
 },
 "nbformat": 4,
 "nbformat_minor": 2
}
